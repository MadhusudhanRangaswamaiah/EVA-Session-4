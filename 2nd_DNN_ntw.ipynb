{
  "nbformat": 4,
  "nbformat_minor": 0,
  "metadata": {
    "colab": {
      "name": "2nd DNN ntw.ipynb",
      "version": "0.3.2",
      "provenance": [],
      "collapsed_sections": [],
      "include_colab_link": true
    },
    "kernelspec": {
      "name": "python3",
      "display_name": "Python 3"
    },
    "accelerator": "GPU"
  },
  "cells": [
    {
      "cell_type": "markdown",
      "metadata": {
        "id": "view-in-github",
        "colab_type": "text"
      },
      "source": [
        "<a href=\"https://colab.research.google.com/github/MadhusudhanRangaswamaiah/EVA-Session-4/blob/master/2nd_DNN_ntw.ipynb\" target=\"_parent\"><img src=\"https://colab.research.google.com/assets/colab-badge.svg\" alt=\"Open In Colab\"/></a>"
      ]
    },
    {
      "cell_type": "markdown",
      "metadata": {
        "id": "ALx8FC61jooZ",
        "colab_type": "text"
      },
      "source": [
        "# Second Network-\n",
        "We got some tools with us like Batch Normalization, Dropout, Larger Batch Size etc..\n",
        "\n",
        "Let's get down to business and apply our first tool..\n",
        "\n",
        "\n",
        "To start with, Batch Normalization technique is used and the network's performance is studied.\n",
        "\n",
        "Before we look in to our code, let's understand Batch Normalization. Batch Normalization was first introduced by two researchers at Google, Sergey Ioffe and Christian Szegedy in their paper **‘Batch Normalization: Accelerating Deep Network Training by Reducing Internal Covariate Shift‘** in 2015. \n",
        "\n",
        "The authors showed that batch normalization improved the top result of ImageNet (2014) by a significant margin using only 7% of the training steps. Today, Batch Normalization is used in almost all CNN architectures.\n",
        "\n",
        "Batch Normalization tries to address what is called as **Internal Covariate Shift**.\n",
        "\n",
        "**Internal Covariate Shift** refers to shift in Covariates' (weights) distribution from layer to layer.  This happens because, as the network learns and the weights are updated, the distribution of outputs of a specific layer in the network changes. This forces the higher layers to adapt to that drift, which *slows down learning*.\n",
        "\n",
        "**Why learning gets slowed down?**\n",
        "The problem is when you have features/weights with different scales. A commonly used optimization technique, such as gradient descent, uses the product of the learning rate times the gradient of the cost function as the step size. As a result, when the features have different scales, the step size can be different for each feature. When you try different learning rates, you will find that 1) the learning rate is too small and it will take a long time to converge, or 2) the learning rate is too big for one or more features, and it never converges. (Quora Answer by Roberto Reif).\n",
        "\n",
        "By doing Normalization, the distribution of weights in all layers will become same making it possible to reach the optimum solution faster ==> (high learning rate)\n",
        "\n",
        "**=================================================================================================**\n",
        "\n",
        "__Now, let's see what happened by adding Batch Normalization in this network.__\n",
        "\n",
        "You can see that Batch Normalization has added 128 parameters whenever used. \n",
        "It adds **4 parameters** [gamma weights, beta weights, moving_mean(non-trainable), moving_variance(non-trainable)] **on every feature/Kernel of the previous layer**.\n",
        "\n",
        "**==> 32 Filters x 4 parameters = 128 parameters.**\n",
        "\n",
        "These addition of parameters will slow down each epoch which is evident here.\n",
        "In the last code (1st Vanilla DNN), **each epoch used to take around 8s on an average which is 13s now, but the number of epochs required to train data has come down.**\n",
        "As you can see in 1st network, it is only in 10th epoch the training accuracy has crossed 99.6%, whereas the training accuracy has crossed 99.6% in the 6th or 7th epoch itself and thus adding Batch Normalization will speed up training of the network.\n",
        "\n",
        "But here the learning rate is fixed. Increasing the learning rate will further accelerate the training.\n",
        "\n",
        "Let's increase **Learning Rate** in adam optimizer. It's seen that the **network gets trained faster**.\n",
        "\n",
        "==> *Number of epochs can be reduced*\n",
        "\n",
        "Also, Batch Normalization will add Regularization which addresses Overfitting problem.\n",
        "\n",
        "***Batch Normalization's benefits are more apparent in very large scale DNNs such as the residual neural networks (ResNet) with 200+ layers than smaller shallower networks.***\n",
        "\n"
      ]
    },
    {
      "cell_type": "markdown",
      "metadata": {
        "id": "aNyZv-Ec52ot",
        "colab_type": "text"
      },
      "source": [
        "# **Import Libraries and modules**"
      ]
    },
    {
      "cell_type": "code",
      "metadata": {
        "id": "3m3w1Cw49Zkt",
        "colab_type": "code",
        "colab": {}
      },
      "source": [
        "# https://keras.io/\n",
        "!pip install -q keras\n",
        "                      #The Python Package Index (PyPI) is a repository of \n",
        "                      #software for the Python programming language.\n",
        "    \n",
        "                      #pip installs Keras. Keras is an open network open-source \n",
        "                      #neural-network library written in Python. \n",
        "import keras\n",
        "                      #Python code in this module gains access to the code \n",
        "                      #in Keras module by the process of importing it using \n",
        "                      #the import statement.\n",
        "      \n",
        "                      #Keras is an open source neural-network library written \n",
        "                      #in Python.\n",
        "                      #Keras-Modular: Building models is as simple as stacking \n",
        "                      #layers and connecting graphs."
      ],
      "execution_count": 0,
      "outputs": []
    },
    {
      "cell_type": "code",
      "metadata": {
        "id": "Eso6UHE080D4",
        "colab_type": "code",
        "colab": {}
      },
      "source": [
        "import numpy as np    # import numpy package as np (alias)\n",
        "from keras.models import Sequential\n",
        "                                        #The core data structure of Keras is \n",
        "                                        #a model (a way to organize layers)\n",
        "                                        #The Simplest type of model is \n",
        "                                        #Sequential Model (a linear stack of \n",
        "                                        #layers)\n",
        "from keras.layers import Dense, Dropout, Activation, Flatten, Add\n",
        "from keras.layers import Convolution2D, MaxPooling2D, BatchNormalization \n",
        "from keras.utils import np_utils\n",
        "\n",
        "from keras.datasets import mnist        #MNIST database of handwritten digits\n",
        "                                        #Dataset of 60,000 28x28 grayscale \n",
        "                                        #images of the 10 digits, along with a \n",
        "                                        #test set of 10,000 images."
      ],
      "execution_count": 0,
      "outputs": []
    },
    {
      "cell_type": "markdown",
      "metadata": {
        "id": "zByEi95J86RD",
        "colab_type": "text"
      },
      "source": [
        "### Load pre-shuffled MNIST data into train and test sets"
      ]
    },
    {
      "cell_type": "code",
      "metadata": {
        "id": "7eRM0QWN83PV",
        "colab_type": "code",
        "colab": {}
      },
      "source": [
        "(X_train, y_train), (X_test, y_test) = mnist.load_data()\n",
        "#Returns 2 Tuples - \n",
        "                                                           \n",
        "#1. x_train, x_test: uint8 array of grayscale image data with shape \n",
        "#   (num_samples, 28, 28).\n",
        "#2. y_train, y_test: uint8 array of digit labels (integers in range 0-9) with \n",
        "#   shape (num_samples,)."
      ],
      "execution_count": 0,
      "outputs": []
    },
    {
      "cell_type": "code",
      "metadata": {
        "id": "4a4Be72j8-ZC",
        "colab_type": "code",
        "outputId": "e36abcf8-ce10-4ccd-d8b5-876f38eabd1c",
        "colab": {
          "base_uri": "https://localhost:8080/",
          "height": 304
        }
      },
      "source": [
        "print (X_train.shape)#Prints the dimension of the array X_train-\n",
        "                     # Dataset of 60,000 28x28 grayscale images of the 10 digits\n",
        "from matplotlib import pyplot as plt\n",
        "%matplotlib inline\n",
        "plt.imshow(X_train[0])#Displays the first image in X_train Dataset"
      ],
      "execution_count": 0,
      "outputs": [
        {
          "output_type": "stream",
          "text": [
            "(60000, 28, 28)\n"
          ],
          "name": "stdout"
        },
        {
          "output_type": "execute_result",
          "data": {
            "text/plain": [
              "<matplotlib.image.AxesImage at 0x7fc8d49b8438>"
            ]
          },
          "metadata": {
            "tags": []
          },
          "execution_count": 530
        },
        {
          "output_type": "display_data",
          "data": {
            "image/png": "[encoded data removed]",
            "text/plain": [
              "<Figure size 432x288 with 1 Axes>"
            ]
          },
          "metadata": {
            "tags": []
          }
        }
      ]
    },
    {
      "cell_type": "code",
      "metadata": {
        "id": "dkmprriw9AnZ",
        "colab_type": "code",
        "colab": {}
      },
      "source": [
        "X_train = X_train.reshape(X_train.shape[0], 28, 28,1)\n",
        "# (60000, 28, 28, 1)==>(nb_samples, width, height, nb_channels)\n",
        "X_test = X_test.reshape(X_test.shape[0], 28, 28,1)\n",
        "# (10000, 28, 28, 1)==>(nb_samples, width, height, nb_channels)"
      ],
      "execution_count": 0,
      "outputs": []
    },
    {
      "cell_type": "code",
      "metadata": {
        "id": "X2m4YS4E9CRh",
        "colab_type": "code",
        "colab": {}
      },
      "source": [
        "X_train = X_train.astype('float32')  #Convert X_train data from uint8 (0to255)\n",
        "                                     #to float32 \n",
        "X_test = X_test.astype('float32')    #Convert X_test data from uint8 (0to255) \n",
        "                                     #to float32\n",
        "X_train /= 255                       #Normalize X_train data\n",
        "X_test /= 255                        #Normalize X_test data"
      ],
      "execution_count": 0,
      "outputs": []
    },
    {
      "cell_type": "code",
      "metadata": {
        "id": "0Mn0vAYD9DvB",
        "colab_type": "code",
        "outputId": "a3adec6a-a254-467f-c024-829c99acb7a7",
        "colab": {
          "base_uri": "https://localhost:8080/",
          "height": 34
        }
      },
      "source": [
        "y_train[:10]"
      ],
      "execution_count": 0,
      "outputs": [
        {
          "output_type": "execute_result",
          "data": {
            "text/plain": [
              "array([5, 0, 4, 1, 9, 2, 1, 3, 1, 4], dtype=uint8)"
            ]
          },
          "metadata": {
            "tags": []
          },
          "execution_count": 533
        }
      ]
    },
    {
      "cell_type": "code",
      "metadata": {
        "id": "ZG8JiXR39FHC",
        "colab_type": "code",
        "colab": {}
      },
      "source": [
        "# Convert 1-dimensional class arrays to 10-dimensional class matrices\n",
        "Y_train = np_utils.to_categorical(y_train, 10)\n",
        "Y_test = np_utils.to_categorical(y_test, 10)"
      ],
      "execution_count": 0,
      "outputs": []
    },
    {
      "cell_type": "code",
      "metadata": {
        "id": "fYlFRvKS9HMB",
        "colab_type": "code",
        "outputId": "efc889fe-8f27-4ac8-c1ce-769ac2a3b6ab",
        "colab": {
          "base_uri": "https://localhost:8080/",
          "height": 190
        }
      },
      "source": [
        "Y_train[:10]\n",
        "#uint8 array of labels (integers in range 0-9) with shape (num_samples,)==> \n",
        "#First 10 Data"
      ],
      "execution_count": 0,
      "outputs": [
        {
          "output_type": "execute_result",
          "data": {
            "text/plain": [
              "array([[0., 0., 0., 0., 0., 1., 0., 0., 0., 0.],\n",
              "       [1., 0., 0., 0., 0., 0., 0., 0., 0., 0.],\n",
              "       [0., 0., 0., 0., 1., 0., 0., 0., 0., 0.],\n",
              "       [0., 1., 0., 0., 0., 0., 0., 0., 0., 0.],\n",
              "       [0., 0., 0., 0., 0., 0., 0., 0., 0., 1.],\n",
              "       [0., 0., 1., 0., 0., 0., 0., 0., 0., 0.],\n",
              "       [0., 1., 0., 0., 0., 0., 0., 0., 0., 0.],\n",
              "       [0., 0., 0., 1., 0., 0., 0., 0., 0., 0.],\n",
              "       [0., 1., 0., 0., 0., 0., 0., 0., 0., 0.],\n",
              "       [0., 0., 0., 0., 1., 0., 0., 0., 0., 0.]], dtype=float32)"
            ]
          },
          "metadata": {
            "tags": []
          },
          "execution_count": 535
        }
      ]
    },
    {
      "cell_type": "code",
      "metadata": {
        "id": "osKqT73Q9JJB",
        "colab_type": "code",
        "outputId": "70e47764-ae39-45d9-81e2-e7a5489a778c",
        "colab": {
          "base_uri": "https://localhost:8080/",
          "height": 106
        }
      },
      "source": [
        "from keras.layers import Activation\n",
        "model = Sequential()\n",
        "\n",
        " \n",
        "model.add(Convolution2D(32, 3, 3, activation='relu', input_shape=(28,28,1)))\n",
        "\n",
        "#(# of filters, Kernel Size, activation='relu',\n",
        "#input shape must be specified for first Layer-->28x28 (1 Channel))\n",
        "#'relu' - Rectified Linear Unit: returns element-wise max(x, 0).\n",
        "#i/p(28x28x(1Channel)|(3x3x(1Channel)x(32 no. of filters)|(26x26x(32 no. of channels))o/p\n",
        "\n",
        "##\n",
        "model.add(BatchNormalization())\n",
        "##\n",
        "\n",
        "model.add(MaxPooling2D(pool_size = (2,2)))\n",
        "\n",
        "#MaxPooling --> o/p 13x13x(32 no. of channels)\n",
        "\n",
        "model.add(Convolution2D(32, 3, 3, activation='relu'))\n",
        "\n",
        "#(# of filters, Kernel Size, activation='relu',\n",
        "#'relu' - Rectified Linear Unit: returns element-wise max(x, 0).\n",
        "#i/p(13x213x(32 Channel)|(3x3x(32Channel)x(32 no. of filters)|(11x11x(32 no. of channels))o/p\n",
        "\n",
        "##\n",
        "model.add(BatchNormalization())\n",
        "##\n",
        "\n",
        "model.add(MaxPooling2D(pool_size = (2,2)))\n",
        "\n",
        "#MaxPooling --> o/p 5x5x(32 no. of channels)\n",
        "\n",
        "model.add(Convolution2D(32, 3, 3, activation='relu'))\n",
        "\n",
        "#(# of filters, Kernel Size, activation='relu',\n",
        "#'relu' - Rectified Linear Unit: returns element-wise max(x, 0).\n",
        "#i/p(5x5x(32 Channel)|(3x3x(32Channel)x(32 no. of filters)|(3x3x(32 no. of channels))o/p\n",
        "\n",
        "##\n",
        "model.add(BatchNormalization())\n",
        "##\n",
        "\n",
        "model.add(Convolution2D(10, 3))\n",
        "\n",
        "#'relu' - Rectified Linear Unit: returns element-wise max(x, 0).\n",
        "#i/p(3x3x(1Channel)|(3x3x(32Channel)x(10 no. of filters)|(1x1x(10 no. of channels))o/p\n",
        "\n",
        "model.add(Flatten())\n",
        "# now: model.output_shape == (None, 10)\n",
        "# Flattening means to remove all of the dimensions except for one.\n",
        "\n",
        "model.add(Activation('softmax'))\n",
        "#Softmax function that takes as input a vector of K real numbers, and normalizes it into a \n",
        "#probability distribution consisting of K probabilities.\n",
        "#That is, prior to applying softmax, some vector components could be negative, or greater than one; \n",
        "#and might not sum to 1; but after applying softmax, each component will be in the interval ( 0 , 1 ), \n",
        "#and the components will add up to 1, so that they can be interpreted as probabilities."
      ],
      "execution_count": 0,
      "outputs": [
        {
          "output_type": "stream",
          "text": [
            "/usr/local/lib/python3.6/dist-packages/ipykernel_launcher.py:5: UserWarning: Update your `Conv2D` call to the Keras 2 API: `Conv2D(32, (3, 3), activation=\"relu\", input_shape=(28, 28, 1...)`\n",
            "  \"\"\"\n",
            "/usr/local/lib/python3.6/dist-packages/ipykernel_launcher.py:20: UserWarning: Update your `Conv2D` call to the Keras 2 API: `Conv2D(32, (3, 3), activation=\"relu\")`\n",
            "/usr/local/lib/python3.6/dist-packages/ipykernel_launcher.py:34: UserWarning: Update your `Conv2D` call to the Keras 2 API: `Conv2D(32, (3, 3), activation=\"relu\")`\n"
          ],
          "name": "stderr"
        }
      ]
    },
    {
      "cell_type": "code",
      "metadata": {
        "id": "Zp6SuGrL9M3h",
        "colab_type": "code",
        "outputId": "77eb42b7-f0e8-44cc-f60c-403ff1bad94b",
        "colab": {
          "base_uri": "https://localhost:8080/",
          "height": 743
        }
      },
      "source": [
        "from keras.optimizers import Adam\n",
        "from keras.callbacks import LearningRateScheduler\n",
        "def scheduler(epoch, lr):\n",
        "  return round(0.003 * 1/(1 + 0.319 * epoch), 10)\n",
        "\n",
        "model.compile(loss='categorical_crossentropy', optimizer=Adam(lr=0.003), metrics=['accuracy'])\n",
        "\n",
        "model.fit(X_train, Y_train, batch_size=128, epochs=10, verbose=1, validation_data=(X_test, Y_test), callbacks=[LearningRateScheduler(scheduler, verbose=1)])\n",
        "#model.compile(loss='categorical_crossentropy',\n",
        "#             optimizer='adam',\n",
        "#             metrics=['accuracy'])\n",
        "#model.compile(loss='categorical_crossentropy',\n",
        "#             optimizer=Adam(lr=0.003),\n",
        "#             metrics=['accuracy'])\n",
        "#categorical_crossentropy - It compares the predicted label and true label and calculates the loss. \n",
        "#When doing multi-class classification, categorical cross entropy loss is used a lot."
      ],
      "execution_count": 0,
      "outputs": [
        {
          "output_type": "stream",
          "text": [
            "Train on 60000 samples, validate on 10000 samples\n",
            "Epoch 1/10\n",
            "\n",
            "Epoch 00001: LearningRateScheduler setting learning rate to 0.003.\n",
            "60000/60000 [==============================] - 16s 261us/step - loss: 0.1135 - acc: 0.9661 - val_loss: 0.0680 - val_acc: 0.9795\n",
            "Epoch 2/10\n",
            "\n",
            "Epoch 00002: LearningRateScheduler setting learning rate to 0.0022744503.\n",
            "60000/60000 [==============================] - 4s 73us/step - loss: 0.0368 - acc: 0.9889 - val_loss: 0.0407 - val_acc: 0.9877\n",
            "Epoch 3/10\n",
            "\n",
            "Epoch 00003: LearningRateScheduler setting learning rate to 0.0018315018.\n",
            "60000/60000 [==============================] - 5s 79us/step - loss: 0.0239 - acc: 0.9924 - val_loss: 0.0365 - val_acc: 0.9891\n",
            "Epoch 4/10\n",
            "\n",
            "Epoch 00004: LearningRateScheduler setting learning rate to 0.0015329586.\n",
            "60000/60000 [==============================] - 5s 80us/step - loss: 0.0162 - acc: 0.9950 - val_loss: 0.0320 - val_acc: 0.9895\n",
            "Epoch 5/10\n",
            "\n",
            "Epoch 00005: LearningRateScheduler setting learning rate to 0.0013181019.\n",
            "60000/60000 [==============================] - 4s 71us/step - loss: 0.0118 - acc: 0.9963 - val_loss: 0.0345 - val_acc: 0.9892\n",
            "Epoch 6/10\n",
            "\n",
            "Epoch 00006: LearningRateScheduler setting learning rate to 0.0011560694.\n",
            "60000/60000 [==============================] - 4s 71us/step - loss: 0.0087 - acc: 0.9975 - val_loss: 0.0378 - val_acc: 0.9887\n",
            "Epoch 7/10\n",
            "\n",
            "Epoch 00007: LearningRateScheduler setting learning rate to 0.0010295127.\n",
            "60000/60000 [==============================] - 4s 71us/step - loss: 0.0068 - acc: 0.9981 - val_loss: 0.0312 - val_acc: 0.9899\n",
            "Epoch 8/10\n",
            "\n",
            "Epoch 00008: LearningRateScheduler setting learning rate to 0.0009279307.\n",
            "60000/60000 [==============================] - 4s 71us/step - loss: 0.0046 - acc: 0.9989 - val_loss: 0.0336 - val_acc: 0.9895\n",
            "Epoch 9/10\n",
            "\n",
            "Epoch 00009: LearningRateScheduler setting learning rate to 0.0008445946.\n",
            "60000/60000 [==============================] - 4s 72us/step - loss: 0.0031 - acc: 0.9994 - val_loss: 0.0300 - val_acc: 0.9917\n",
            "Epoch 10/10\n",
            "\n",
            "Epoch 00010: LearningRateScheduler setting learning rate to 0.0007749935.\n",
            "60000/60000 [==============================] - 4s 71us/step - loss: 0.0022 - acc: 0.9997 - val_loss: 0.0288 - val_acc: 0.9918\n"
          ],
          "name": "stdout"
        },
        {
          "output_type": "execute_result",
          "data": {
            "text/plain": [
              "<keras.callbacks.History at 0x7fc8d4ab1ef0>"
            ]
          },
          "metadata": {
            "tags": []
          },
          "execution_count": 537
        }
      ]
    },
    {
      "cell_type": "code",
      "metadata": {
        "id": "TzdAYg1k9K7Z",
        "colab_type": "code",
        "outputId": "704e44eb-f000-4747-dc5b-492d3a94f414",
        "colab": {
          "base_uri": "https://localhost:8080/",
          "height": 518
        }
      },
      "source": [
        "model.summary()"
      ],
      "execution_count": 0,
      "outputs": [
        {
          "output_type": "stream",
          "text": [
            "_________________________________________________________________\n",
            "Layer (type)                 Output Shape              Param #   \n",
            "=================================================================\n",
            "conv2d_109 (Conv2D)          (None, 26, 26, 32)        320       \n",
            "_________________________________________________________________\n",
            "batch_normalization_76 (Batc (None, 26, 26, 32)        128       \n",
            "_________________________________________________________________\n",
            "max_pooling2d_55 (MaxPooling (None, 13, 13, 32)        0         \n",
            "_________________________________________________________________\n",
            "conv2d_110 (Conv2D)          (None, 11, 11, 32)        9248      \n",
            "_________________________________________________________________\n",
            "batch_normalization_77 (Batc (None, 11, 11, 32)        128       \n",
            "_________________________________________________________________\n",
            "max_pooling2d_56 (MaxPooling (None, 5, 5, 32)          0         \n",
            "_________________________________________________________________\n",
            "conv2d_111 (Conv2D)          (None, 3, 3, 32)          9248      \n",
            "_________________________________________________________________\n",
            "batch_normalization_78 (Batc (None, 3, 3, 32)          128       \n",
            "_________________________________________________________________\n",
            "conv2d_112 (Conv2D)          (None, 1, 1, 10)          2890      \n",
            "_________________________________________________________________\n",
            "flatten_28 (Flatten)         (None, 10)                0         \n",
            "_________________________________________________________________\n",
            "activation_28 (Activation)   (None, 10)                0         \n",
            "=================================================================\n",
            "Total params: 22,090\n",
            "Trainable params: 21,898\n",
            "Non-trainable params: 192\n",
            "_________________________________________________________________\n"
          ],
          "name": "stdout"
        }
      ]
    },
    {
      "cell_type": "code",
      "metadata": {
        "id": "AtsH-lLk-eLb",
        "colab_type": "code",
        "colab": {}
      },
      "source": [
        "#score = model.evaluate(X_test, Y_test, verbose=0)#Returns loss value and metric values for the Test Dataset"
      ],
      "execution_count": 0,
      "outputs": []
    },
    {
      "cell_type": "code",
      "metadata": {
        "id": "4xWoKhPY9Of5",
        "colab_type": "code",
        "colab": {}
      },
      "source": [
        "#model.fit(X_train, Y_train, batch_size=32, nb_epoch=20, verbose=1)\n",
        "#Trains the model for the given number of epochs (iterations on a Dataset)."
      ],
      "execution_count": 0,
      "outputs": []
    },
    {
      "cell_type": "code",
      "metadata": {
        "id": "mkX8JMv79q9r",
        "colab_type": "code",
        "colab": {}
      },
      "source": [
        "#print(score)"
      ],
      "execution_count": 0,
      "outputs": []
    },
    {
      "cell_type": "code",
      "metadata": {
        "id": "OCWoJkwE9suh",
        "colab_type": "code",
        "colab": {}
      },
      "source": [
        "y_pred = model.predict(X_test)#Generate output predictions for the input data."
      ],
      "execution_count": 0,
      "outputs": []
    },
    {
      "cell_type": "code",
      "metadata": {
        "id": "Ym7iCFBm9uBs",
        "colab_type": "code",
        "outputId": "69ec94f6-7fa9-4382-d981-4cc4f5cae8ec",
        "colab": {
          "base_uri": "https://localhost:8080/",
          "height": 501
        }
      },
      "source": [
        "print(y_pred[:9])\n",
        "print(y_test[:9])"
      ],
      "execution_count": 0,
      "outputs": [
        {
          "output_type": "stream",
          "text": [
            "[[8.76364031e-13 1.15331425e-10 1.46023649e-09 4.18003836e-08\n",
            "  9.36937919e-13 3.61756458e-11 1.87361914e-16 1.00000000e+00\n",
            "  6.59683853e-12 7.96554434e-10]\n",
            " [2.28062873e-07 1.74040679e-07 9.99999523e-01 3.52044002e-12\n",
            "  7.26956949e-12 4.36075092e-15 8.50602646e-08 1.11653969e-12\n",
            "  1.89403330e-13 3.34172382e-12]\n",
            " [8.83509159e-08 9.99986410e-01 2.93889837e-08 5.91595314e-11\n",
            "  2.64142295e-06 8.89109231e-09 1.37916842e-07 1.02564445e-05\n",
            "  4.08841117e-07 1.82936883e-08]\n",
            " [9.99998331e-01 5.06388074e-12 1.94094710e-07 6.23889621e-11\n",
            "  2.02811708e-11 4.40195345e-11 1.43097429e-06 1.47509283e-09\n",
            "  1.50909174e-09 2.29448863e-10]\n",
            " [8.02505729e-10 3.35784089e-09 5.04923403e-12 1.28669419e-11\n",
            "  9.99999046e-01 6.57127963e-11 1.13490654e-10 6.33119612e-10\n",
            "  3.37828515e-11 9.64879973e-07]\n",
            " [6.99023328e-09 9.99999523e-01 7.52920926e-09 4.63848881e-12\n",
            "  1.71006150e-07 8.21188256e-12 1.07913023e-09 2.45920745e-07\n",
            "  1.60474356e-09 1.18937760e-09]\n",
            " [1.29414667e-13 3.13202198e-09 7.53219752e-13 6.27084579e-14\n",
            "  9.99999881e-01 3.84079296e-10 1.01495756e-11 9.08190578e-10\n",
            "  1.44188199e-08 8.55965681e-08]\n",
            " [3.57749441e-10 9.94763828e-14 2.14496074e-10 1.79890891e-09\n",
            "  2.80713075e-09 2.90362123e-10 1.96306514e-15 1.19413221e-11\n",
            "  3.64188235e-09 1.00000000e+00]\n",
            " [1.63445684e-08 4.95292522e-11 4.11265244e-09 1.93659733e-09\n",
            "  2.10380913e-09 9.92152393e-01 7.84129091e-03 2.96238895e-10\n",
            "  6.25696885e-06 4.23166835e-09]]\n",
            "[7 2 1 0 4 1 4 9 5]\n"
          ],
          "name": "stdout"
        }
      ]
    },
    {
      "cell_type": "code",
      "metadata": {
        "id": "CT--y98_dr2T",
        "colab_type": "code",
        "colab": {}
      },
      "source": [
        "layer_dict = dict([(layer.name, layer) for layer in model.layers])"
      ],
      "execution_count": 0,
      "outputs": []
    },
    {
      "cell_type": "code",
      "metadata": {
        "id": "2GY4Upv4dsUR",
        "colab_type": "code",
        "outputId": "f5ec0788-29e1-46c3-9695-73f601a992b7",
        "colab": {
          "base_uri": "https://localhost:8080/",
          "height": 322
        }
      },
      "source": [
        "import numpy as np\n",
        "from matplotlib import pyplot as plt\n",
        "from keras import backend as K\n",
        "%matplotlib inline\n",
        "# util function to convert a tensor into a valid image\n",
        "def deprocess_image(x):\n",
        "    # normalize tensor: center on 0., ensure std is 0.1\n",
        "    x -= x.mean()\n",
        "    x /= (x.std() + 1e-5)\n",
        "    x *= 0.1\n",
        "\n",
        "    # clip to [0, 1]\n",
        "    x += 0.5\n",
        "    x = np.clip(x, 0, 1)\n",
        "\n",
        "    # convert to RGB array\n",
        "    x *= 255\n",
        "    #x = x.transpose((1, 2, 0))\n",
        "    x = np.clip(x, 0, 255).astype('uint8')\n",
        "    return x\n",
        "\n",
        "def vis_img_in_filter(img = np.array(X_train[2]).reshape((1, 28, 28, 1)).astype(np.float64), \n",
        "                      layer_name = 'conv2d_14'):\n",
        "    layer_output = layer_dict[layer_name].output\n",
        "    img_ascs = list()\n",
        "    for filter_index in range(layer_output.shape[3]):\n",
        "        # build a loss function that maximizes the activation\n",
        "        # of the nth filter of the layer considered\n",
        "        loss = K.mean(layer_output[:, :, :, filter_index])\n",
        "\n",
        "        # compute the gradient of the input picture wrt this loss\n",
        "        grads = K.gradients(loss, model.input)[0]\n",
        "\n",
        "        # normalization trick: we normalize the gradient\n",
        "        grads /= (K.sqrt(K.mean(K.square(grads))) + 1e-5)\n",
        "\n",
        "        # this function returns the loss and grads given the input picture\n",
        "        iterate = K.function([model.input], [loss, grads])\n",
        "\n",
        "        # step size for gradient ascent\n",
        "        step = 5.\n",
        "\n",
        "        img_asc = np.array(img)\n",
        "        # run gradient ascent for 20 steps\n",
        "        for i in range(20):\n",
        "            loss_value, grads_value = iterate([img_asc])\n",
        "            img_asc += grads_value * step\n",
        "\n",
        "        img_asc = img_asc[0]\n",
        "        img_ascs.append(deprocess_image(img_asc).reshape((28, 28)))\n",
        "        \n",
        "    if layer_output.shape[3] >= 35:\n",
        "        plot_x, plot_y = 6, 6\n",
        "    elif layer_output.shape[3] >= 23:\n",
        "        plot_x, plot_y = 4, 6\n",
        "    elif layer_output.shape[3] >= 11:\n",
        "        plot_x, plot_y = 2, 6\n",
        "    else:\n",
        "        plot_x, plot_y = 1, 2\n",
        "    fig, ax = plt.subplots(plot_x, plot_y, figsize = (12, 12))\n",
        "    ax[0, 0].imshow(img.reshape((28, 28)), cmap = 'gray')\n",
        "    ax[0, 0].set_title('Input image')\n",
        "    fig.suptitle('Input image and %s filters' % (layer_name,))\n",
        "    fig.tight_layout(pad = 0.3, rect = [0, 0, 0.9, 0.9])\n",
        "    for (x, y) in [(i, j) for i in range(plot_x) for j in range(plot_y)]:\n",
        "        if x == 0 and y == 0:\n",
        "            continue\n",
        "        ax[x, y].imshow(img_ascs[x * plot_y + y - 1], cmap = 'gray')\n",
        "        ax[x, y].set_title('filter %d' % (x * plot_y + y - 1))\n",
        "\n",
        "vis_img_in_filter()"
      ],
      "execution_count": 0,
      "outputs": [
        {
          "output_type": "error",
          "ename": "KeyError",
          "evalue": "ignored",
          "traceback": [
            "\u001b[0;31m---------------------------------------------------------------------------\u001b[0m",
            "\u001b[0;31mKeyError\u001b[0m                                  Traceback (most recent call last)",
            "\u001b[0;32m<ipython-input-545-19229f66b51a>\u001b[0m in \u001b[0;36m<module>\u001b[0;34m()\u001b[0m\n\u001b[1;32m     69\u001b[0m         \u001b[0max\u001b[0m\u001b[0;34m[\u001b[0m\u001b[0mx\u001b[0m\u001b[0;34m,\u001b[0m \u001b[0my\u001b[0m\u001b[0;34m]\u001b[0m\u001b[0;34m.\u001b[0m\u001b[0mset_title\u001b[0m\u001b[0;34m(\u001b[0m\u001b[0;34m'filter %d'\u001b[0m \u001b[0;34m%\u001b[0m \u001b[0;34m(\u001b[0m\u001b[0mx\u001b[0m \u001b[0;34m*\u001b[0m \u001b[0mplot_y\u001b[0m \u001b[0;34m+\u001b[0m \u001b[0my\u001b[0m \u001b[0;34m-\u001b[0m \u001b[0;36m1\u001b[0m\u001b[0;34m)\u001b[0m\u001b[0;34m)\u001b[0m\u001b[0;34m\u001b[0m\u001b[0;34m\u001b[0m\u001b[0m\n\u001b[1;32m     70\u001b[0m \u001b[0;34m\u001b[0m\u001b[0m\n\u001b[0;32m---> 71\u001b[0;31m \u001b[0mvis_img_in_filter\u001b[0m\u001b[0;34m(\u001b[0m\u001b[0;34m)\u001b[0m\u001b[0;34m\u001b[0m\u001b[0;34m\u001b[0m\u001b[0m\n\u001b[0m",
            "\u001b[0;32m<ipython-input-545-19229f66b51a>\u001b[0m in \u001b[0;36mvis_img_in_filter\u001b[0;34m(img, layer_name)\u001b[0m\n\u001b[1;32m     22\u001b[0m def vis_img_in_filter(img = np.array(X_train[2]).reshape((1, 28, 28, 1)).astype(np.float64), \n\u001b[1;32m     23\u001b[0m                       layer_name = 'conv2d_14'):\n\u001b[0;32m---> 24\u001b[0;31m     \u001b[0mlayer_output\u001b[0m \u001b[0;34m=\u001b[0m \u001b[0mlayer_dict\u001b[0m\u001b[0;34m[\u001b[0m\u001b[0mlayer_name\u001b[0m\u001b[0;34m]\u001b[0m\u001b[0;34m.\u001b[0m\u001b[0moutput\u001b[0m\u001b[0;34m\u001b[0m\u001b[0;34m\u001b[0m\u001b[0m\n\u001b[0m\u001b[1;32m     25\u001b[0m     \u001b[0mimg_ascs\u001b[0m \u001b[0;34m=\u001b[0m \u001b[0mlist\u001b[0m\u001b[0;34m(\u001b[0m\u001b[0;34m)\u001b[0m\u001b[0;34m\u001b[0m\u001b[0;34m\u001b[0m\u001b[0m\n\u001b[1;32m     26\u001b[0m     \u001b[0;32mfor\u001b[0m \u001b[0mfilter_index\u001b[0m \u001b[0;32min\u001b[0m \u001b[0mrange\u001b[0m\u001b[0;34m(\u001b[0m\u001b[0mlayer_output\u001b[0m\u001b[0;34m.\u001b[0m\u001b[0mshape\u001b[0m\u001b[0;34m[\u001b[0m\u001b[0;36m3\u001b[0m\u001b[0;34m]\u001b[0m\u001b[0;34m)\u001b[0m\u001b[0;34m:\u001b[0m\u001b[0;34m\u001b[0m\u001b[0;34m\u001b[0m\u001b[0m\n",
            "\u001b[0;31mKeyError\u001b[0m: 'conv2d_14'"
          ]
        }
      ]
    },
    {
      "cell_type": "code",
      "metadata": {
        "id": "9tvptcn8dxvp",
        "colab_type": "code",
        "colab": {}
      },
      "source": [
        ""
      ],
      "execution_count": 0,
      "outputs": []
    }
  ]
}