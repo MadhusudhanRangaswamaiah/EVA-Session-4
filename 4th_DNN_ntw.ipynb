{
  "nbformat": 4,
  "nbformat_minor": 0,
  "metadata": {
    "colab": {
      "name": "4th DNN ntw.ipynb",
      "version": "0.3.2",
      "provenance": [],
      "collapsed_sections": [],
      "include_colab_link": true
    },
    "kernelspec": {
      "name": "python3",
      "display_name": "Python 3"
    },
    "accelerator": "GPU"
  },
  "cells": [
    {
      "cell_type": "markdown",
      "metadata": {
        "id": "view-in-github",
        "colab_type": "text"
      },
      "source": [
        "<a href=\"https://colab.research.google.com/github/MadhusudhanRangaswamaiah/EVA-Session-4/blob/master/4th_DNN_ntw.ipynb\" target=\"_parent\"><img src=\"https://colab.research.google.com/assets/colab-badge.svg\" alt=\"Open In Colab\"/></a>"
      ]
    },
    {
      "cell_type": "markdown",
      "metadata": {
        "id": "ALx8FC61jooZ",
        "colab_type": "text"
      },
      "source": [
        "# Fourth Network\n",
        "\n",
        "With this we need to achieve a target of 99.4% Validation accuracy with 15K parameters.\n",
        "\n",
        "In this network, only some fine tuning of # of filters (no. of parameters), epoch adjustments are done to meet the target.\n",
        "\n",
        "***Finally, I could achieve 99.34% (changes slightly both ways with every Run) of Validation accuracy with 14,013 parameters.***\n",
        "\n",
        "\n",
        " \n"
      ]
    },
    {
      "cell_type": "markdown",
      "metadata": {
        "id": "aNyZv-Ec52ot",
        "colab_type": "text"
      },
      "source": [
        "# **Import Libraries and modules**"
      ]
    },
    {
      "cell_type": "code",
      "metadata": {
        "id": "3m3w1Cw49Zkt",
        "colab_type": "code",
        "colab": {
          "base_uri": "https://localhost:8080/",
          "height": 34
        },
        "outputId": "c4b427e3-84e9-4d6c-aad6-54c1b426e07d"
      },
      "source": [
        "# https://keras.io/\n",
        "!pip install -q keras\n",
        "                      #The Python Package Index (PyPI) is a repository of \n",
        "                      #software for the Python programming language.\n",
        "    \n",
        "                      #pip installs Keras. Keras is an open network open-source \n",
        "                      #neural-network library written in Python. \n",
        "import keras\n",
        "                      #Python code in this module gains access to the code \n",
        "                      #in Keras module by the process of importing it using \n",
        "                      #the import statement.\n",
        "      \n",
        "                      #Keras is an open source neural-network library written \n",
        "                      #in Python.\n",
        "                      #Keras-Modular: Building models is as simple as stacking \n",
        "                      #layers and connecting graphs."
      ],
      "execution_count": 1,
      "outputs": [
        {
          "output_type": "stream",
          "text": [
            "Using TensorFlow backend.\n"
          ],
          "name": "stderr"
        }
      ]
    },
    {
      "cell_type": "code",
      "metadata": {
        "id": "Eso6UHE080D4",
        "colab_type": "code",
        "colab": {}
      },
      "source": [
        "import numpy as np    # import numpy package as np (alias)\n",
        "from keras.models import Sequential\n",
        "                                        #The core data structure of Keras is \n",
        "                                        #a model (a way to organize layers)\n",
        "                                        #The Simplest type of model is \n",
        "                                        #Sequential Model (a linear stack of \n",
        "                                        #layers)\n",
        "from keras.layers import Dense, Dropout, Activation, Flatten, Add\n",
        "from keras.layers import Convolution2D, MaxPooling2D, BatchNormalization \n",
        "from keras.utils import np_utils\n",
        "\n",
        "from keras.datasets import mnist        #MNIST database of handwritten digits\n",
        "                                        #Dataset of 60,000 28x28 grayscale \n",
        "                                        #images of the 10 digits, along with a \n",
        "                                        #test set of 10,000 images."
      ],
      "execution_count": 0,
      "outputs": []
    },
    {
      "cell_type": "markdown",
      "metadata": {
        "id": "zByEi95J86RD",
        "colab_type": "text"
      },
      "source": [
        "### Load pre-shuffled MNIST data into train and test sets"
      ]
    },
    {
      "cell_type": "code",
      "metadata": {
        "id": "7eRM0QWN83PV",
        "colab_type": "code",
        "colab": {
          "base_uri": "https://localhost:8080/",
          "height": 51
        },
        "outputId": "b61ea34b-0d64-4b36-ec5c-f43666b493c1"
      },
      "source": [
        "(X_train, y_train), (X_test, y_test) = mnist.load_data()\n",
        "#Returns 2 Tuples - \n",
        "                                                           \n",
        "#1. x_train, x_test: uint8 array of grayscale image data with shape \n",
        "#   (num_samples, 28, 28).\n",
        "#2. y_train, y_test: uint8 array of digit labels (integers in range 0-9) with \n",
        "#   shape (num_samples,)."
      ],
      "execution_count": 3,
      "outputs": [
        {
          "output_type": "stream",
          "text": [
            "Downloading data from https://s3.amazonaws.com/img-datasets/mnist.npz\n",
            "11493376/11490434 [==============================] - 2s 0us/step\n"
          ],
          "name": "stdout"
        }
      ]
    },
    {
      "cell_type": "code",
      "metadata": {
        "id": "4a4Be72j8-ZC",
        "colab_type": "code",
        "outputId": "8bedfd79-7291-4847-ffeb-fd7a5b6b1460",
        "colab": {
          "base_uri": "https://localhost:8080/",
          "height": 303
        }
      },
      "source": [
        "print (X_train.shape)#Prints the dimension of the array X_train-\n",
        "                     # Dataset of 60,000 28x28 grayscale images of the 10 digits\n",
        "from matplotlib import pyplot as plt\n",
        "%matplotlib inline\n",
        "plt.imshow(X_train[0])#Displays the first image in X_train Dataset"
      ],
      "execution_count": 4,
      "outputs": [
        {
          "output_type": "stream",
          "text": [
            "(60000, 28, 28)\n"
          ],
          "name": "stdout"
        },
        {
          "output_type": "execute_result",
          "data": {
            "text/plain": [
              "<matplotlib.image.AxesImage at 0x7fb8b0a8b630>"
            ]
          },
          "metadata": {
            "tags": []
          },
          "execution_count": 4
        },
        {
          "output_type": "display_data",
          "data": {
            "image/png": "[encoded data removed]",
            "text/plain": [
              "<Figure size 432x288 with 1 Axes>"
            ]
          },
          "metadata": {
            "tags": []
          }
        }
      ]
    },
    {
      "cell_type": "code",
      "metadata": {
        "id": "dkmprriw9AnZ",
        "colab_type": "code",
        "colab": {}
      },
      "source": [
        "X_train = X_train.reshape(X_train.shape[0], 28, 28,1)\n",
        "# (60000, 28, 28, 1)==>(nb_samples, width, height, nb_channels)\n",
        "X_test = X_test.reshape(X_test.shape[0], 28, 28,1)\n",
        "# (10000, 28, 28, 1)==>(nb_samples, width, height, nb_channels)"
      ],
      "execution_count": 0,
      "outputs": []
    },
    {
      "cell_type": "code",
      "metadata": {
        "id": "X2m4YS4E9CRh",
        "colab_type": "code",
        "colab": {}
      },
      "source": [
        "X_train = X_train.astype('float32')  #Convert X_train data from uint8 (0to255)\n",
        "                                     #to float32 \n",
        "X_test = X_test.astype('float32')    #Convert X_test data from uint8 (0to255) \n",
        "                                     #to float32\n",
        "X_train /= 255                       #Normalize X_train data\n",
        "X_test /= 255                        #Normalize X_test data"
      ],
      "execution_count": 0,
      "outputs": []
    },
    {
      "cell_type": "code",
      "metadata": {
        "id": "0Mn0vAYD9DvB",
        "colab_type": "code",
        "outputId": "8ce852da-a069-4b68-ae62-42c3e51a9b6d",
        "colab": {
          "base_uri": "https://localhost:8080/",
          "height": 34
        }
      },
      "source": [
        "y_train[:10]"
      ],
      "execution_count": 7,
      "outputs": [
        {
          "output_type": "execute_result",
          "data": {
            "text/plain": [
              "array([5, 0, 4, 1, 9, 2, 1, 3, 1, 4], dtype=uint8)"
            ]
          },
          "metadata": {
            "tags": []
          },
          "execution_count": 7
        }
      ]
    },
    {
      "cell_type": "code",
      "metadata": {
        "id": "ZG8JiXR39FHC",
        "colab_type": "code",
        "colab": {}
      },
      "source": [
        "# Convert 1-dimensional class arrays to 10-dimensional class matrices\n",
        "Y_train = np_utils.to_categorical(y_train, 10)\n",
        "Y_test = np_utils.to_categorical(y_test, 10)"
      ],
      "execution_count": 0,
      "outputs": []
    },
    {
      "cell_type": "code",
      "metadata": {
        "id": "fYlFRvKS9HMB",
        "colab_type": "code",
        "outputId": "d70e1d49-e783-45da-ceb1-750bc5adb0b8",
        "colab": {
          "base_uri": "https://localhost:8080/",
          "height": 187
        }
      },
      "source": [
        "Y_train[:10]\n",
        "#uint8 array of labels (integers in range 0-9) with shape (num_samples,)==> \n",
        "#First 10 Data"
      ],
      "execution_count": 9,
      "outputs": [
        {
          "output_type": "execute_result",
          "data": {
            "text/plain": [
              "array([[0., 0., 0., 0., 0., 1., 0., 0., 0., 0.],\n",
              "       [1., 0., 0., 0., 0., 0., 0., 0., 0., 0.],\n",
              "       [0., 0., 0., 0., 1., 0., 0., 0., 0., 0.],\n",
              "       [0., 1., 0., 0., 0., 0., 0., 0., 0., 0.],\n",
              "       [0., 0., 0., 0., 0., 0., 0., 0., 0., 1.],\n",
              "       [0., 0., 1., 0., 0., 0., 0., 0., 0., 0.],\n",
              "       [0., 1., 0., 0., 0., 0., 0., 0., 0., 0.],\n",
              "       [0., 0., 0., 1., 0., 0., 0., 0., 0., 0.],\n",
              "       [0., 1., 0., 0., 0., 0., 0., 0., 0., 0.],\n",
              "       [0., 0., 0., 0., 1., 0., 0., 0., 0., 0.]], dtype=float32)"
            ]
          },
          "metadata": {
            "tags": []
          },
          "execution_count": 9
        }
      ]
    },
    {
      "cell_type": "code",
      "metadata": {
        "id": "osKqT73Q9JJB",
        "colab_type": "code",
        "outputId": "ae52958e-5bd7-4bdc-f010-453270e82da2",
        "colab": {
          "base_uri": "https://localhost:8080/",
          "height": 207
        }
      },
      "source": [
        "from keras.layers import Activation\n",
        "model = Sequential()\n",
        "\n",
        " \n",
        "model.add(Convolution2D(10, 3, 3, activation='relu', input_shape=(28,28,1)))\n",
        "\n",
        "#(# of filters, Kernel Size, activation='relu',\n",
        "#input shape must be specified for first Layer-->28x28 (1 Channel))\n",
        "#'relu' - Rectified Linear Unit: returns element-wise max(x, 0).\n",
        "#i/p(28x28x(1Channel)|(3x3x(1Channel)x(32 no. of filters)|(26x26x(32 no. of channels))o/p\n",
        "\n",
        "model.add(Dropout(0.25))\n",
        "\n",
        "##\n",
        "#model.add(BatchNormalization())\n",
        "##\n",
        "\n",
        "model.add(MaxPooling2D(pool_size = (2,2)))\n",
        "\n",
        "#MaxPooling --> o/p 13x13x(32 no. of channels)\n",
        "\n",
        "model.add(Convolution2D(32, 3, 3, activation='relu'))\n",
        "\n",
        "#(# of filters, Kernel Size, activation='relu',\n",
        "#'relu' - Rectified Linear Unit: returns element-wise max(x, 0).\n",
        "#i/p(13x213x(32 Channel)|(3x3x(32Channel)x(32 no. of filters)|(11x11x(32 no. of channels))o/p\n",
        "\n",
        "##\n",
        "#model.add(BatchNormalization())\n",
        "##\n",
        "\n",
        "model.add(Dropout(0.25))\n",
        "\n",
        "model.add(MaxPooling2D(pool_size = (2,2)))\n",
        "\n",
        "#MaxPooling --> o/p 5x5x(32 no. of channels)\n",
        "\n",
        "model.add(Convolution2D(29, 3, 3, activation='relu'))\n",
        "\n",
        "#(# of filters, Kernel Size, activation='relu',\n",
        "#'relu' - Rectified Linear Unit: returns element-wise max(x, 0).\n",
        "#i/p(5x5x(32 Channel)|(3x3x(32Channel)x(32 no. of filters)|(3x3x(32 no. of channels))o/p\n",
        "\n",
        "##\n",
        "#model.add(BatchNormalization())\n",
        "##\n",
        "\n",
        "model.add(Dropout(0.25))\n",
        "\n",
        "model.add(Convolution2D(10, 3))\n",
        "#'relu' - Rectified Linear Unit: returns element-wise max(x, 0).\n",
        "#i/p(3x3x(1Channel)|(3x3x(32Channel)x(10 no. of filters)|(1x1x(10 no. of channels))o/p\n",
        "\n",
        "#model.add(Dropout(0.25))\n",
        "\n",
        "\n",
        "model.add(Flatten())\n",
        "# now: model.output_shape == (None, 10)\n",
        "# Flattening means to remove all of the dimensions except for one.\n",
        "\n",
        "model.add(Activation('softmax'))\n",
        "#Softmax function that takes as input a vector of K real numbers, and normalizes it into a \n",
        "#probability distribution consisting of K probabilities.\n",
        "#That is, prior to applying softmax, some vector components could be negative, or greater than one; \n",
        "#and might not sum to 1; but after applying softmax, each component will be in the interval ( 0 , 1 ), \n",
        "#and the components will add up to 1, so that they can be interpreted as probabilities."
      ],
      "execution_count": 10,
      "outputs": [
        {
          "output_type": "stream",
          "text": [
            "WARNING:tensorflow:From /usr/local/lib/python3.6/dist-packages/tensorflow/python/framework/op_def_library.py:263: colocate_with (from tensorflow.python.framework.ops) is deprecated and will be removed in a future version.\n",
            "Instructions for updating:\n",
            "Colocations handled automatically by placer.\n",
            "WARNING:tensorflow:From /usr/local/lib/python3.6/dist-packages/keras/backend/tensorflow_backend.py:3445: calling dropout (from tensorflow.python.ops.nn_ops) with keep_prob is deprecated and will be removed in a future version.\n",
            "Instructions for updating:\n",
            "Please use `rate` instead of `keep_prob`. Rate should be set to `rate = 1 - keep_prob`.\n"
          ],
          "name": "stdout"
        },
        {
          "output_type": "stream",
          "text": [
            "/usr/local/lib/python3.6/dist-packages/ipykernel_launcher.py:5: UserWarning: Update your `Conv2D` call to the Keras 2 API: `Conv2D(10, (3, 3), activation=\"relu\", input_shape=(28, 28, 1...)`\n",
            "  \"\"\"\n",
            "/usr/local/lib/python3.6/dist-packages/ipykernel_launcher.py:22: UserWarning: Update your `Conv2D` call to the Keras 2 API: `Conv2D(32, (3, 3), activation=\"relu\")`\n",
            "/usr/local/lib/python3.6/dist-packages/ipykernel_launcher.py:38: UserWarning: Update your `Conv2D` call to the Keras 2 API: `Conv2D(29, (3, 3), activation=\"relu\")`\n"
          ],
          "name": "stderr"
        }
      ]
    },
    {
      "cell_type": "code",
      "metadata": {
        "id": "TzdAYg1k9K7Z",
        "colab_type": "code",
        "outputId": "ba1f947e-8583-4ffd-d14e-913dba63ce85",
        "colab": {
          "base_uri": "https://localhost:8080/",
          "height": 510
        }
      },
      "source": [
        "model.summary()"
      ],
      "execution_count": 11,
      "outputs": [
        {
          "output_type": "stream",
          "text": [
            "_________________________________________________________________\n",
            "Layer (type)                 Output Shape              Param #   \n",
            "=================================================================\n",
            "conv2d_1 (Conv2D)            (None, 26, 26, 10)        100       \n",
            "_________________________________________________________________\n",
            "dropout_1 (Dropout)          (None, 26, 26, 10)        0         \n",
            "_________________________________________________________________\n",
            "max_pooling2d_1 (MaxPooling2 (None, 13, 13, 10)        0         \n",
            "_________________________________________________________________\n",
            "conv2d_2 (Conv2D)            (None, 11, 11, 32)        2912      \n",
            "_________________________________________________________________\n",
            "dropout_2 (Dropout)          (None, 11, 11, 32)        0         \n",
            "_________________________________________________________________\n",
            "max_pooling2d_2 (MaxPooling2 (None, 5, 5, 32)          0         \n",
            "_________________________________________________________________\n",
            "conv2d_3 (Conv2D)            (None, 3, 3, 29)          8381      \n",
            "_________________________________________________________________\n",
            "dropout_3 (Dropout)          (None, 3, 3, 29)          0         \n",
            "_________________________________________________________________\n",
            "conv2d_4 (Conv2D)            (None, 1, 1, 10)          2620      \n",
            "_________________________________________________________________\n",
            "flatten_1 (Flatten)          (None, 10)                0         \n",
            "_________________________________________________________________\n",
            "activation_1 (Activation)    (None, 10)                0         \n",
            "=================================================================\n",
            "Total params: 14,013\n",
            "Trainable params: 14,013\n",
            "Non-trainable params: 0\n",
            "_________________________________________________________________\n"
          ],
          "name": "stdout"
        }
      ]
    },
    {
      "cell_type": "code",
      "metadata": {
        "id": "Zp6SuGrL9M3h",
        "colab_type": "code",
        "outputId": "81cf1348-4ea1-42a7-940e-dbbab697d0e1",
        "colab": {
          "base_uri": "https://localhost:8080/",
          "height": 2162
        }
      },
      "source": [
        "from keras.optimizers import Adam\n",
        "from keras.callbacks import LearningRateScheduler\n",
        "def scheduler(epoch, lr):\n",
        "  return round(0.003 * 1/(1 + 0.319 * epoch), 10)\n",
        "\n",
        "model.compile(loss='categorical_crossentropy', optimizer=Adam(lr=0.003), metrics=['accuracy'])\n",
        "\n",
        "model.fit(X_train, Y_train, batch_size=128, epochs=30, verbose=1, validation_data=(X_test, Y_test), callbacks=[LearningRateScheduler(scheduler, verbose=1)])\n",
        "#model.compile(loss='categorical_crossentropy',\n",
        "#             optimizer='adam',\n",
        "#             metrics=['accuracy'])\n",
        "#model.compile(loss='categorical_crossentropy',\n",
        "#             optimizer=Adam(lr=0.0003120774),\n",
        "#             metrics=['accuracy'])\n",
        "#categorical_crossentropy - It compares the predicted label and true label and calculates the loss. \n",
        "#When doing multi-class classification, categorical cross entropy loss is used a lot."
      ],
      "execution_count": 12,
      "outputs": [
        {
          "output_type": "stream",
          "text": [
            "WARNING:tensorflow:From /usr/local/lib/python3.6/dist-packages/tensorflow/python/ops/math_ops.py:3066: to_int32 (from tensorflow.python.ops.math_ops) is deprecated and will be removed in a future version.\n",
            "Instructions for updating:\n",
            "Use tf.cast instead.\n",
            "Train on 60000 samples, validate on 10000 samples\n",
            "Epoch 1/30\n",
            "\n",
            "Epoch 00001: LearningRateScheduler setting learning rate to 0.003.\n",
            "60000/60000 [==============================] - 7s 123us/step - loss: 0.2862 - acc: 0.9102 - val_loss: 0.0865 - val_acc: 0.9789\n",
            "Epoch 2/30\n",
            "\n",
            "Epoch 00002: LearningRateScheduler setting learning rate to 0.0022744503.\n",
            "60000/60000 [==============================] - 3s 49us/step - loss: 0.0890 - acc: 0.9737 - val_loss: 0.0585 - val_acc: 0.9854\n",
            "Epoch 3/30\n",
            "\n",
            "Epoch 00003: LearningRateScheduler setting learning rate to 0.0018315018.\n",
            "60000/60000 [==============================] - 3s 48us/step - loss: 0.0696 - acc: 0.9786 - val_loss: 0.0491 - val_acc: 0.9881\n",
            "Epoch 4/30\n",
            "\n",
            "Epoch 00004: LearningRateScheduler setting learning rate to 0.0015329586.\n",
            "60000/60000 [==============================] - 3s 47us/step - loss: 0.0588 - acc: 0.9817 - val_loss: 0.0390 - val_acc: 0.9890\n",
            "Epoch 5/30\n",
            "\n",
            "Epoch 00005: LearningRateScheduler setting learning rate to 0.0013181019.\n",
            "60000/60000 [==============================] - 3s 43us/step - loss: 0.0508 - acc: 0.9839 - val_loss: 0.0351 - val_acc: 0.9908\n",
            "Epoch 6/30\n",
            "\n",
            "Epoch 00006: LearningRateScheduler setting learning rate to 0.0011560694.\n",
            "60000/60000 [==============================] - 3s 43us/step - loss: 0.0483 - acc: 0.9848 - val_loss: 0.0343 - val_acc: 0.9905\n",
            "Epoch 7/30\n",
            "\n",
            "Epoch 00007: LearningRateScheduler setting learning rate to 0.0010295127.\n",
            "60000/60000 [==============================] - 3s 42us/step - loss: 0.0448 - acc: 0.9854 - val_loss: 0.0322 - val_acc: 0.9916\n",
            "Epoch 8/30\n",
            "\n",
            "Epoch 00008: LearningRateScheduler setting learning rate to 0.0009279307.\n",
            "60000/60000 [==============================] - 3s 42us/step - loss: 0.0428 - acc: 0.9865 - val_loss: 0.0318 - val_acc: 0.9909\n",
            "Epoch 9/30\n",
            "\n",
            "Epoch 00009: LearningRateScheduler setting learning rate to 0.0008445946.\n",
            "60000/60000 [==============================] - 3s 42us/step - loss: 0.0424 - acc: 0.9867 - val_loss: 0.0323 - val_acc: 0.9916\n",
            "Epoch 10/30\n",
            "\n",
            "Epoch 00010: LearningRateScheduler setting learning rate to 0.0007749935.\n",
            "60000/60000 [==============================] - 3s 43us/step - loss: 0.0388 - acc: 0.9876 - val_loss: 0.0283 - val_acc: 0.9918\n",
            "Epoch 11/30\n",
            "\n",
            "Epoch 00011: LearningRateScheduler setting learning rate to 0.0007159905.\n",
            "60000/60000 [==============================] - 3s 42us/step - loss: 0.0369 - acc: 0.9881 - val_loss: 0.0305 - val_acc: 0.9922\n",
            "Epoch 12/30\n",
            "\n",
            "Epoch 00012: LearningRateScheduler setting learning rate to 0.000665336.\n",
            "60000/60000 [==============================] - 3s 42us/step - loss: 0.0360 - acc: 0.9887 - val_loss: 0.0284 - val_acc: 0.9916\n",
            "Epoch 13/30\n",
            "\n",
            "Epoch 00013: LearningRateScheduler setting learning rate to 0.0006213753.\n",
            "60000/60000 [==============================] - 3s 42us/step - loss: 0.0348 - acc: 0.9892 - val_loss: 0.0272 - val_acc: 0.9924\n",
            "Epoch 14/30\n",
            "\n",
            "Epoch 00014: LearningRateScheduler setting learning rate to 0.0005828638.\n",
            "60000/60000 [==============================] - 3s 43us/step - loss: 0.0335 - acc: 0.9892 - val_loss: 0.0271 - val_acc: 0.9929\n",
            "Epoch 15/30\n",
            "\n",
            "Epoch 00015: LearningRateScheduler setting learning rate to 0.0005488474.\n",
            "60000/60000 [==============================] - 3s 42us/step - loss: 0.0318 - acc: 0.9901 - val_loss: 0.0262 - val_acc: 0.9927\n",
            "Epoch 16/30\n",
            "\n",
            "Epoch 00016: LearningRateScheduler setting learning rate to 0.0005185825.\n",
            "60000/60000 [==============================] - 3s 42us/step - loss: 0.0311 - acc: 0.9899 - val_loss: 0.0273 - val_acc: 0.9923\n",
            "Epoch 17/30\n",
            "\n",
            "Epoch 00017: LearningRateScheduler setting learning rate to 0.000491481.\n",
            "60000/60000 [==============================] - 3s 42us/step - loss: 0.0320 - acc: 0.9900 - val_loss: 0.0253 - val_acc: 0.9929\n",
            "Epoch 18/30\n",
            "\n",
            "Epoch 00018: LearningRateScheduler setting learning rate to 0.0004670715.\n",
            "60000/60000 [==============================] - 3s 43us/step - loss: 0.0306 - acc: 0.9901 - val_loss: 0.0249 - val_acc: 0.9932\n",
            "Epoch 19/30\n",
            "\n",
            "Epoch 00019: LearningRateScheduler setting learning rate to 0.0004449718.\n",
            "60000/60000 [==============================] - 3s 42us/step - loss: 0.0312 - acc: 0.9900 - val_loss: 0.0262 - val_acc: 0.9932\n",
            "Epoch 20/30\n",
            "\n",
            "Epoch 00020: LearningRateScheduler setting learning rate to 0.000424869.\n",
            "60000/60000 [==============================] - 3s 43us/step - loss: 0.0297 - acc: 0.9897 - val_loss: 0.0238 - val_acc: 0.9936\n",
            "Epoch 21/30\n",
            "\n",
            "Epoch 00021: LearningRateScheduler setting learning rate to 0.0004065041.\n",
            "60000/60000 [==============================] - 3s 42us/step - loss: 0.0270 - acc: 0.9912 - val_loss: 0.0227 - val_acc: 0.9935\n",
            "Epoch 22/30\n",
            "\n",
            "Epoch 00022: LearningRateScheduler setting learning rate to 0.000389661.\n",
            "60000/60000 [==============================] - 3s 43us/step - loss: 0.0286 - acc: 0.9905 - val_loss: 0.0237 - val_acc: 0.9931\n",
            "Epoch 23/30\n",
            "\n",
            "Epoch 00023: LearningRateScheduler setting learning rate to 0.0003741581.\n",
            "60000/60000 [==============================] - 3s 42us/step - loss: 0.0279 - acc: 0.9912 - val_loss: 0.0235 - val_acc: 0.9934\n",
            "Epoch 24/30\n",
            "\n",
            "Epoch 00024: LearningRateScheduler setting learning rate to 0.0003598417.\n",
            "60000/60000 [==============================] - 3s 43us/step - loss: 0.0270 - acc: 0.9911 - val_loss: 0.0242 - val_acc: 0.9933\n",
            "Epoch 25/30\n",
            "\n",
            "Epoch 00025: LearningRateScheduler setting learning rate to 0.0003465804.\n",
            "60000/60000 [==============================] - 3s 42us/step - loss: 0.0265 - acc: 0.9916 - val_loss: 0.0221 - val_acc: 0.9933\n",
            "Epoch 26/30\n",
            "\n",
            "Epoch 00026: LearningRateScheduler setting learning rate to 0.0003342618.\n",
            "60000/60000 [==============================] - 3s 42us/step - loss: 0.0251 - acc: 0.9915 - val_loss: 0.0223 - val_acc: 0.9930\n",
            "Epoch 27/30\n",
            "\n",
            "Epoch 00027: LearningRateScheduler setting learning rate to 0.0003227889.\n",
            "60000/60000 [==============================] - 3s 43us/step - loss: 0.0257 - acc: 0.9913 - val_loss: 0.0228 - val_acc: 0.9932\n",
            "Epoch 28/30\n",
            "\n",
            "Epoch 00028: LearningRateScheduler setting learning rate to 0.0003120774.\n",
            "60000/60000 [==============================] - 3s 43us/step - loss: 0.0254 - acc: 0.9915 - val_loss: 0.0219 - val_acc: 0.9932\n",
            "Epoch 29/30\n",
            "\n",
            "Epoch 00029: LearningRateScheduler setting learning rate to 0.000302054.\n",
            "60000/60000 [==============================] - 3s 42us/step - loss: 0.0268 - acc: 0.9910 - val_loss: 0.0219 - val_acc: 0.9930\n",
            "Epoch 30/30\n",
            "\n",
            "Epoch 00030: LearningRateScheduler setting learning rate to 0.0002926544.\n",
            "60000/60000 [==============================] - 3s 43us/step - loss: 0.0248 - acc: 0.9920 - val_loss: 0.0230 - val_acc: 0.9934\n"
          ],
          "name": "stdout"
        },
        {
          "output_type": "execute_result",
          "data": {
            "text/plain": [
              "<keras.callbacks.History at 0x7fb8ad838b38>"
            ]
          },
          "metadata": {
            "tags": []
          },
          "execution_count": 12
        }
      ]
    },
    {
      "cell_type": "code",
      "metadata": {
        "id": "4xWoKhPY9Of5",
        "colab_type": "code",
        "colab": {}
      },
      "source": [
        "#model.fit(X_train, Y_train, batch_size=128, nb_epoch=30, verbose=1)\n",
        "#Trains the model for the given number of epochs (iterations on a Dataset)."
      ],
      "execution_count": 0,
      "outputs": []
    },
    {
      "cell_type": "code",
      "metadata": {
        "id": "AtsH-lLk-eLb",
        "colab_type": "code",
        "colab": {}
      },
      "source": [
        "#score = model.evaluate(X_test, Y_test, verbose=0)#Returns loss value and metric values for the Test Dataset"
      ],
      "execution_count": 0,
      "outputs": []
    },
    {
      "cell_type": "code",
      "metadata": {
        "id": "mkX8JMv79q9r",
        "colab_type": "code",
        "colab": {}
      },
      "source": [
        "#print(score)"
      ],
      "execution_count": 0,
      "outputs": []
    },
    {
      "cell_type": "code",
      "metadata": {
        "id": "OCWoJkwE9suh",
        "colab_type": "code",
        "colab": {}
      },
      "source": [
        "y_pred = model.predict(X_test)#Generate output predictions for the input data."
      ],
      "execution_count": 0,
      "outputs": []
    },
    {
      "cell_type": "code",
      "metadata": {
        "id": "Ym7iCFBm9uBs",
        "colab_type": "code",
        "outputId": "c83ddaa1-44fc-4ef8-a261-c4f6ea7895b3",
        "colab": {
          "base_uri": "https://localhost:8080/",
          "height": 493
        }
      },
      "source": [
        "print(y_pred[:9])\n",
        "print(y_test[:9])"
      ],
      "execution_count": 17,
      "outputs": [
        {
          "output_type": "stream",
          "text": [
            "[[1.06946336e-05 8.60529599e-06 4.92362888e-05 7.36157090e-05\n",
            "  1.69422609e-08 3.97032045e-06 3.76427882e-12 9.99745309e-01\n",
            "  7.22871528e-06 1.01292375e-04]\n",
            " [3.10197865e-05 8.20540648e-04 9.99130428e-01 1.15325031e-06\n",
            "  2.23153873e-09 1.24287327e-08 1.27844396e-05 5.06630400e-08\n",
            "  3.87608134e-06 2.10771803e-10]\n",
            " [3.61101343e-06 9.99637365e-01 1.28013244e-05 7.98566532e-07\n",
            "  9.32194453e-05 1.99009392e-05 2.19046942e-05 1.39349548e-04\n",
            "  6.90172456e-05 2.07637504e-06]\n",
            " [9.97752607e-01 2.08014477e-08 7.77738387e-05 2.45515548e-06\n",
            "  4.46256962e-07 4.19790122e-05 1.97750377e-03 5.79507878e-06\n",
            "  1.20179990e-04 2.12169343e-05]\n",
            " [2.74917647e-06 5.03589035e-07 4.51954492e-07 7.40736681e-08\n",
            "  9.99301791e-01 7.42108853e-07 1.44354044e-05 8.26213727e-06\n",
            "  2.00286577e-05 6.50883652e-04]\n",
            " [7.90780746e-07 9.99758065e-01 3.91923777e-06 5.97869487e-08\n",
            "  2.02562223e-05 9.21462913e-07 2.41535099e-06 2.02978859e-04\n",
            "  1.01240212e-05 4.50447033e-07]\n",
            " [4.08552192e-10 7.75615445e-06 5.21329525e-07 2.99806189e-08\n",
            "  9.96649802e-01 9.96037706e-05 1.39665834e-08 1.46181274e-05\n",
            "  3.16473888e-03 6.29384667e-05]\n",
            " [4.43483532e-06 8.55611759e-08 5.88130433e-07 1.64867197e-05\n",
            "  2.20326521e-03 6.56493794e-05 1.22762325e-08 1.42895660e-05\n",
            "  2.20982969e-04 9.97474253e-01]\n",
            " [3.33178286e-05 3.14949972e-07 2.00264185e-04 9.51426846e-05\n",
            "  2.00139027e-07 9.75105584e-01 2.00863294e-02 1.10254714e-05\n",
            "  3.86987859e-03 5.97837381e-04]]\n",
            "[7 2 1 0 4 1 4 9 5]\n"
          ],
          "name": "stdout"
        }
      ]
    },
    {
      "cell_type": "code",
      "metadata": {
        "id": "CT--y98_dr2T",
        "colab_type": "code",
        "colab": {}
      },
      "source": [
        "layer_dict = dict([(layer.name, layer) for layer in model.layers])"
      ],
      "execution_count": 0,
      "outputs": []
    },
    {
      "cell_type": "code",
      "metadata": {
        "id": "2GY4Upv4dsUR",
        "colab_type": "code",
        "outputId": "12f4997e-922d-4833-f5ec-1261e4b6966a",
        "colab": {
          "base_uri": "https://localhost:8080/",
          "height": 316
        }
      },
      "source": [
        "import numpy as np\n",
        "from matplotlib import pyplot as plt\n",
        "from keras import backend as K\n",
        "%matplotlib inline\n",
        "# util function to convert a tensor into a valid image\n",
        "def deprocess_image(x):\n",
        "    # normalize tensor: center on 0., ensure std is 0.1\n",
        "    x -= x.mean()\n",
        "    x /= (x.std() + 1e-5)\n",
        "    x *= 0.1\n",
        "\n",
        "    # clip to [0, 1]\n",
        "    x += 0.5\n",
        "    x = np.clip(x, 0, 1)\n",
        "\n",
        "    # convert to RGB array\n",
        "    x *= 255\n",
        "    #x = x.transpose((1, 2, 0))\n",
        "    x = np.clip(x, 0, 255).astype('uint8')\n",
        "    return x\n",
        "\n",
        "def vis_img_in_filter(img = np.array(X_train[2]).reshape((1, 28, 28, 1)).astype(np.float64), \n",
        "                      layer_name = 'conv2d_14'):\n",
        "    layer_output = layer_dict[layer_name].output\n",
        "    img_ascs = list()\n",
        "    for filter_index in range(layer_output.shape[3]):\n",
        "        # build a loss function that maximizes the activation\n",
        "        # of the nth filter of the layer considered\n",
        "        loss = K.mean(layer_output[:, :, :, filter_index])\n",
        "\n",
        "        # compute the gradient of the input picture wrt this loss\n",
        "        grads = K.gradients(loss, model.input)[0]\n",
        "\n",
        "        # normalization trick: we normalize the gradient\n",
        "        grads /= (K.sqrt(K.mean(K.square(grads))) + 1e-5)\n",
        "\n",
        "        # this function returns the loss and grads given the input picture\n",
        "        iterate = K.function([model.input], [loss, grads])\n",
        "\n",
        "        # step size for gradient ascent\n",
        "        step = 5.\n",
        "\n",
        "        img_asc = np.array(img)\n",
        "        # run gradient ascent for 20 steps\n",
        "        for i in range(20):\n",
        "            loss_value, grads_value = iterate([img_asc])\n",
        "            img_asc += grads_value * step\n",
        "\n",
        "        img_asc = img_asc[0]\n",
        "        img_ascs.append(deprocess_image(img_asc).reshape((28, 28)))\n",
        "        \n",
        "    if layer_output.shape[3] >= 35:\n",
        "        plot_x, plot_y = 6, 6\n",
        "    elif layer_output.shape[3] >= 23:\n",
        "        plot_x, plot_y = 4, 6\n",
        "    elif layer_output.shape[3] >= 11:\n",
        "        plot_x, plot_y = 2, 6\n",
        "    else:\n",
        "        plot_x, plot_y = 1, 2\n",
        "    fig, ax = plt.subplots(plot_x, plot_y, figsize = (12, 12))\n",
        "    ax[0, 0].imshow(img.reshape((28, 28)), cmap = 'gray')\n",
        "    ax[0, 0].set_title('Input image')\n",
        "    fig.suptitle('Input image and %s filters' % (layer_name,))\n",
        "    fig.tight_layout(pad = 0.3, rect = [0, 0, 0.9, 0.9])\n",
        "    for (x, y) in [(i, j) for i in range(plot_x) for j in range(plot_y)]:\n",
        "        if x == 0 and y == 0:\n",
        "            continue\n",
        "        ax[x, y].imshow(img_ascs[x * plot_y + y - 1], cmap = 'gray')\n",
        "        ax[x, y].set_title('filter %d' % (x * plot_y + y - 1))\n",
        "\n",
        "vis_img_in_filter()"
      ],
      "execution_count": 19,
      "outputs": [
        {
          "output_type": "error",
          "ename": "KeyError",
          "evalue": "ignored",
          "traceback": [
            "\u001b[0;31m---------------------------------------------------------------------------\u001b[0m",
            "\u001b[0;31mKeyError\u001b[0m                                  Traceback (most recent call last)",
            "\u001b[0;32m<ipython-input-19-19229f66b51a>\u001b[0m in \u001b[0;36m<module>\u001b[0;34m()\u001b[0m\n\u001b[1;32m     69\u001b[0m         \u001b[0max\u001b[0m\u001b[0;34m[\u001b[0m\u001b[0mx\u001b[0m\u001b[0;34m,\u001b[0m \u001b[0my\u001b[0m\u001b[0;34m]\u001b[0m\u001b[0;34m.\u001b[0m\u001b[0mset_title\u001b[0m\u001b[0;34m(\u001b[0m\u001b[0;34m'filter %d'\u001b[0m \u001b[0;34m%\u001b[0m \u001b[0;34m(\u001b[0m\u001b[0mx\u001b[0m \u001b[0;34m*\u001b[0m \u001b[0mplot_y\u001b[0m \u001b[0;34m+\u001b[0m \u001b[0my\u001b[0m \u001b[0;34m-\u001b[0m \u001b[0;36m1\u001b[0m\u001b[0;34m)\u001b[0m\u001b[0;34m)\u001b[0m\u001b[0;34m\u001b[0m\u001b[0;34m\u001b[0m\u001b[0m\n\u001b[1;32m     70\u001b[0m \u001b[0;34m\u001b[0m\u001b[0m\n\u001b[0;32m---> 71\u001b[0;31m \u001b[0mvis_img_in_filter\u001b[0m\u001b[0;34m(\u001b[0m\u001b[0;34m)\u001b[0m\u001b[0;34m\u001b[0m\u001b[0;34m\u001b[0m\u001b[0m\n\u001b[0m",
            "\u001b[0;32m<ipython-input-19-19229f66b51a>\u001b[0m in \u001b[0;36mvis_img_in_filter\u001b[0;34m(img, layer_name)\u001b[0m\n\u001b[1;32m     22\u001b[0m def vis_img_in_filter(img = np.array(X_train[2]).reshape((1, 28, 28, 1)).astype(np.float64), \n\u001b[1;32m     23\u001b[0m                       layer_name = 'conv2d_14'):\n\u001b[0;32m---> 24\u001b[0;31m     \u001b[0mlayer_output\u001b[0m \u001b[0;34m=\u001b[0m \u001b[0mlayer_dict\u001b[0m\u001b[0;34m[\u001b[0m\u001b[0mlayer_name\u001b[0m\u001b[0;34m]\u001b[0m\u001b[0;34m.\u001b[0m\u001b[0moutput\u001b[0m\u001b[0;34m\u001b[0m\u001b[0;34m\u001b[0m\u001b[0m\n\u001b[0m\u001b[1;32m     25\u001b[0m     \u001b[0mimg_ascs\u001b[0m \u001b[0;34m=\u001b[0m \u001b[0mlist\u001b[0m\u001b[0;34m(\u001b[0m\u001b[0;34m)\u001b[0m\u001b[0;34m\u001b[0m\u001b[0;34m\u001b[0m\u001b[0m\n\u001b[1;32m     26\u001b[0m     \u001b[0;32mfor\u001b[0m \u001b[0mfilter_index\u001b[0m \u001b[0;32min\u001b[0m \u001b[0mrange\u001b[0m\u001b[0;34m(\u001b[0m\u001b[0mlayer_output\u001b[0m\u001b[0;34m.\u001b[0m\u001b[0mshape\u001b[0m\u001b[0;34m[\u001b[0m\u001b[0;36m3\u001b[0m\u001b[0;34m]\u001b[0m\u001b[0;34m)\u001b[0m\u001b[0;34m:\u001b[0m\u001b[0;34m\u001b[0m\u001b[0;34m\u001b[0m\u001b[0m\n",
            "\u001b[0;31mKeyError\u001b[0m: 'conv2d_14'"
          ]
        }
      ]
    },
    {
      "cell_type": "code",
      "metadata": {
        "id": "9tvptcn8dxvp",
        "colab_type": "code",
        "colab": {}
      },
      "source": [
        ""
      ],
      "execution_count": 0,
      "outputs": []
    }
  ]
}