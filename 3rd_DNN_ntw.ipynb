{
  "nbformat": 4,
  "nbformat_minor": 0,
  "metadata": {
    "colab": {
      "name": "3rd DNN ntw.ipynb",
      "version": "0.3.2",
      "provenance": [],
      "collapsed_sections": [],
      "include_colab_link": true
    },
    "kernelspec": {
      "name": "python3",
      "display_name": "Python 3"
    },
    "accelerator": "GPU"
  },
  "cells": [
    {
      "cell_type": "markdown",
      "metadata": {
        "id": "view-in-github",
        "colab_type": "text"
      },
      "source": [
        "<a href=\"https://colab.research.google.com/github/MadhusudhanRangaswamaiah/EVA-Session-4/blob/master/3rd_DNN_ntw.ipynb\" target=\"_parent\"><img src=\"https://colab.research.google.com/assets/colab-badge.svg\" alt=\"Open In Colab\"/></a>"
      ]
    },
    {
      "cell_type": "markdown",
      "metadata": {
        "id": "ALx8FC61jooZ",
        "colab_type": "text"
      },
      "source": [
        "# Third Network\n",
        "\n",
        "In the previous network we tried using some of the tools like Batch Normalization and Learning Rate. \n",
        "\n",
        "It was seen that **Batch Normalization** will -\n",
        "\n",
        "* Speed-up the learning of the network (on training data-set) i.e, it can train the network with lesser number of epoch / iterations, but takes more time for each epoch as it increases computational load by adding parameters to the network.\n",
        "\n",
        "* This benefit of Batch Normalization can be further enhanced by increasing the learning rate.\n",
        "\n",
        "* add Regularization to the network.\n",
        "\n",
        "All these benefits are apparent in large scale DNNs than smaller shallower networks.\n",
        "\n",
        "We could achieve 99.18% Validation Accuracy with 20,090 parameters.\n",
        "\n",
        "But our target is 99.4% of Validation Accuracy with less than 15K parameters.\n",
        "\n",
        "We have also increased **Batch Size** to 128 in our 2nd Code which will serve two purposes - \n",
        "\n",
        "     1. Speed-up the computation\n",
        "    2. Add some regularization i.e, as batch size increases quality of the network degrades and thus the network can generalize well.\n",
        "\n",
        "**=====================================================**\n",
        "\n",
        "In this network, let's introduce **Dropout**. \n",
        "\n",
        "According to Wikipedia — \n",
        "*The term “dropout” refers to dropping out units (both hidden and visible) in a neural network.*\n",
        "\n",
        "**Why do we need Dropout?**\n",
        "-------------------------------------\n",
        "\n",
        "\n",
        "      To prevent overfitting.\n",
        "**============================================================**\n",
        " \n",
        " - Dropout is an approach to regularization in neural networks.\n",
        " \n",
        " - By using Dropout more number of epoch are required.\n",
        " \n",
        " - Dropout need not be used in conjunction with Batch Normalization as the later one will also add Regularization.\n",
        "\n",
        "**============================================================**\n",
        "\n",
        "- Batch Normalization is not used in this code.\n",
        "\n",
        "- Dropout is used to adress the overfitting problem.\n",
        "\n",
        "      If the Validation accuracy is pretty much lesser than Training accuracy then it is a clear case of overfitting. ==> Address this problem by adding Dropouts.\n",
        "\n",
        "      Adding too many Dropouts will lead to underfitting of the network.\n",
        "\n",
        "      -  This can be observed by seeing the training accuracy not improving further with increase in the number of epoch.\n",
        "\n",
        "\n",
        " \n"
      ]
    },
    {
      "cell_type": "markdown",
      "metadata": {
        "id": "aNyZv-Ec52ot",
        "colab_type": "text"
      },
      "source": [
        "# **Import Libraries and modules**"
      ]
    },
    {
      "cell_type": "code",
      "metadata": {
        "id": "3m3w1Cw49Zkt",
        "colab_type": "code",
        "colab": {}
      },
      "source": [
        "# https://keras.io/\n",
        "!pip install -q keras\n",
        "                      #The Python Package Index (PyPI) is a repository of \n",
        "                      #software for the Python programming language.\n",
        "    \n",
        "                      #pip installs Keras. Keras is an open network open-source \n",
        "                      #neural-network library written in Python. \n",
        "import keras\n",
        "                      #Python code in this module gains access to the code \n",
        "                      #in Keras module by the process of importing it using \n",
        "                      #the import statement.\n",
        "      \n",
        "                      #Keras is an open source neural-network library written \n",
        "                      #in Python.\n",
        "                      #Keras-Modular: Building models is as simple as stacking \n",
        "                      #layers and connecting graphs."
      ],
      "execution_count": 0,
      "outputs": []
    },
    {
      "cell_type": "code",
      "metadata": {
        "id": "Eso6UHE080D4",
        "colab_type": "code",
        "colab": {}
      },
      "source": [
        "import numpy as np    # import numpy package as np (alias)\n",
        "from keras.models import Sequential\n",
        "                                        #The core data structure of Keras is \n",
        "                                        #a model (a way to organize layers)\n",
        "                                        #The Simplest type of model is \n",
        "                                        #Sequential Model (a linear stack of \n",
        "                                        #layers)\n",
        "from keras.layers import Dense, Dropout, Activation, Flatten, Add\n",
        "from keras.layers import Convolution2D, MaxPooling2D, BatchNormalization \n",
        "from keras.utils import np_utils\n",
        "\n",
        "from keras.datasets import mnist        #MNIST database of handwritten digits\n",
        "                                        #Dataset of 60,000 28x28 grayscale \n",
        "                                        #images of the 10 digits, along with a \n",
        "                                        #test set of 10,000 images."
      ],
      "execution_count": 0,
      "outputs": []
    },
    {
      "cell_type": "markdown",
      "metadata": {
        "id": "zByEi95J86RD",
        "colab_type": "text"
      },
      "source": [
        "### Load pre-shuffled MNIST data into train and test sets"
      ]
    },
    {
      "cell_type": "code",
      "metadata": {
        "id": "7eRM0QWN83PV",
        "colab_type": "code",
        "colab": {}
      },
      "source": [
        "(X_train, y_train), (X_test, y_test) = mnist.load_data()\n",
        "#Returns 2 Tuples - \n",
        "                                                           \n",
        "#1. x_train, x_test: uint8 array of grayscale image data with shape \n",
        "#   (num_samples, 28, 28).\n",
        "#2. y_train, y_test: uint8 array of digit labels (integers in range 0-9) with \n",
        "#   shape (num_samples,)."
      ],
      "execution_count": 0,
      "outputs": []
    },
    {
      "cell_type": "code",
      "metadata": {
        "id": "4a4Be72j8-ZC",
        "colab_type": "code",
        "outputId": "80a04960-de94-40fd-81ad-cfa2ba6b4b6d",
        "colab": {
          "base_uri": "https://localhost:8080/",
          "height": 303
        }
      },
      "source": [
        "print (X_train.shape)#Prints the dimension of the array X_train-\n",
        "                     # Dataset of 60,000 28x28 grayscale images of the 10 digits\n",
        "from matplotlib import pyplot as plt\n",
        "%matplotlib inline\n",
        "plt.imshow(X_train[0])#Displays the first image in X_train Dataset"
      ],
      "execution_count": 54,
      "outputs": [
        {
          "output_type": "stream",
          "text": [
            "(60000, 28, 28)\n"
          ],
          "name": "stdout"
        },
        {
          "output_type": "execute_result",
          "data": {
            "text/plain": [
              "<matplotlib.image.AxesImage at 0x7f5107cae198>"
            ]
          },
          "metadata": {
            "tags": []
          },
          "execution_count": 54
        },
        {
          "output_type": "display_data",
          "data": {
            "image/png": "[encoded data removed]",
            "text/plain": [
              "<Figure size 432x288 with 1 Axes>"
            ]
          },
          "metadata": {
            "tags": []
          }
        }
      ]
    },
    {
      "cell_type": "code",
      "metadata": {
        "id": "dkmprriw9AnZ",
        "colab_type": "code",
        "colab": {}
      },
      "source": [
        "X_train = X_train.reshape(X_train.shape[0], 28, 28,1)\n",
        "# (60000, 28, 28, 1)==>(nb_samples, width, height, nb_channels)\n",
        "X_test = X_test.reshape(X_test.shape[0], 28, 28,1)\n",
        "# (10000, 28, 28, 1)==>(nb_samples, width, height, nb_channels)"
      ],
      "execution_count": 0,
      "outputs": []
    },
    {
      "cell_type": "code",
      "metadata": {
        "id": "X2m4YS4E9CRh",
        "colab_type": "code",
        "colab": {}
      },
      "source": [
        "X_train = X_train.astype('float32')  #Convert X_train data from uint8 (0to255)\n",
        "                                     #to float32 \n",
        "X_test = X_test.astype('float32')    #Convert X_test data from uint8 (0to255) \n",
        "                                     #to float32\n",
        "X_train /= 255                       #Normalize X_train data\n",
        "X_test /= 255                        #Normalize X_test data"
      ],
      "execution_count": 0,
      "outputs": []
    },
    {
      "cell_type": "code",
      "metadata": {
        "id": "0Mn0vAYD9DvB",
        "colab_type": "code",
        "outputId": "08f24eef-921c-4698-e1e5-4887bcca14ef",
        "colab": {
          "base_uri": "https://localhost:8080/",
          "height": 34
        }
      },
      "source": [
        "y_train[:10]"
      ],
      "execution_count": 57,
      "outputs": [
        {
          "output_type": "execute_result",
          "data": {
            "text/plain": [
              "array([5, 0, 4, 1, 9, 2, 1, 3, 1, 4], dtype=uint8)"
            ]
          },
          "metadata": {
            "tags": []
          },
          "execution_count": 57
        }
      ]
    },
    {
      "cell_type": "code",
      "metadata": {
        "id": "ZG8JiXR39FHC",
        "colab_type": "code",
        "colab": {}
      },
      "source": [
        "# Convert 1-dimensional class arrays to 10-dimensional class matrices\n",
        "Y_train = np_utils.to_categorical(y_train, 10)\n",
        "Y_test = np_utils.to_categorical(y_test, 10)"
      ],
      "execution_count": 0,
      "outputs": []
    },
    {
      "cell_type": "code",
      "metadata": {
        "id": "fYlFRvKS9HMB",
        "colab_type": "code",
        "outputId": "d393963e-d599-41e4-eac1-4a7489bd7f33",
        "colab": {
          "base_uri": "https://localhost:8080/",
          "height": 187
        }
      },
      "source": [
        "Y_train[:10]\n",
        "#uint8 array of labels (integers in range 0-9) with shape (num_samples,)==> \n",
        "#First 10 Data"
      ],
      "execution_count": 59,
      "outputs": [
        {
          "output_type": "execute_result",
          "data": {
            "text/plain": [
              "array([[0., 0., 0., 0., 0., 1., 0., 0., 0., 0.],\n",
              "       [1., 0., 0., 0., 0., 0., 0., 0., 0., 0.],\n",
              "       [0., 0., 0., 0., 1., 0., 0., 0., 0., 0.],\n",
              "       [0., 1., 0., 0., 0., 0., 0., 0., 0., 0.],\n",
              "       [0., 0., 0., 0., 0., 0., 0., 0., 0., 1.],\n",
              "       [0., 0., 1., 0., 0., 0., 0., 0., 0., 0.],\n",
              "       [0., 1., 0., 0., 0., 0., 0., 0., 0., 0.],\n",
              "       [0., 0., 0., 1., 0., 0., 0., 0., 0., 0.],\n",
              "       [0., 1., 0., 0., 0., 0., 0., 0., 0., 0.],\n",
              "       [0., 0., 0., 0., 1., 0., 0., 0., 0., 0.]], dtype=float32)"
            ]
          },
          "metadata": {
            "tags": []
          },
          "execution_count": 59
        }
      ]
    },
    {
      "cell_type": "code",
      "metadata": {
        "id": "osKqT73Q9JJB",
        "colab_type": "code",
        "outputId": "09947abe-8108-409b-9f7f-4998aa589b36",
        "colab": {
          "base_uri": "https://localhost:8080/",
          "height": 105
        }
      },
      "source": [
        "from keras.layers import Activation\n",
        "model = Sequential()\n",
        "\n",
        " \n",
        "model.add(Convolution2D(10, 3, 3, activation='relu', input_shape=(28,28,1)))\n",
        "\n",
        "#(# of filters, Kernel Size, activation='relu',\n",
        "#input shape must be specified for first Layer-->28x28 (1 Channel))\n",
        "#'relu' - Rectified Linear Unit: returns element-wise max(x, 0).\n",
        "#i/p(28x28x(1Channel)|(3x3x(1Channel)x(32 no. of filters)|(26x26x(32 no. of channels))o/p\n",
        "\n",
        "model.add(Dropout(0.25))\n",
        "\n",
        "##\n",
        "#model.add(BatchNormalization())\n",
        "##\n",
        "\n",
        "model.add(MaxPooling2D(pool_size = (2,2)))\n",
        "\n",
        "#MaxPooling --> o/p 13x13x(32 no. of channels)\n",
        "\n",
        "model.add(Convolution2D(32, 3, 3, activation='relu'))\n",
        "\n",
        "#(# of filters, Kernel Size, activation='relu',\n",
        "#'relu' - Rectified Linear Unit: returns element-wise max(x, 0).\n",
        "#i/p(13x213x(32 Channel)|(3x3x(32Channel)x(32 no. of filters)|(11x11x(32 no. of channels))o/p\n",
        "\n",
        "##\n",
        "#model.add(BatchNormalization())\n",
        "##\n",
        "\n",
        "model.add(Dropout(0.25))\n",
        "\n",
        "model.add(MaxPooling2D(pool_size = (2,2)))\n",
        "\n",
        "#MaxPooling --> o/p 5x5x(32 no. of channels)\n",
        "\n",
        "model.add(Convolution2D(32, 3, 3, activation='relu'))\n",
        "\n",
        "#(# of filters, Kernel Size, activation='relu',\n",
        "#'relu' - Rectified Linear Unit: returns element-wise max(x, 0).\n",
        "#i/p(5x5x(32 Channel)|(3x3x(32Channel)x(32 no. of filters)|(3x3x(32 no. of channels))o/p\n",
        "\n",
        "##\n",
        "#model.add(BatchNormalization())\n",
        "##\n",
        "\n",
        "model.add(Dropout(0.25))\n",
        "\n",
        "model.add(Convolution2D(10, 3))\n",
        "#'relu' - Rectified Linear Unit: returns element-wise max(x, 0).\n",
        "#i/p(3x3x(1Channel)|(3x3x(32Channel)x(10 no. of filters)|(1x1x(10 no. of channels))o/p\n",
        "\n",
        "#model.add(Dropout(0.25))\n",
        "\n",
        "\n",
        "model.add(Flatten())\n",
        "# now: model.output_shape == (None, 10)\n",
        "# Flattening means to remove all of the dimensions except for one.\n",
        "\n",
        "model.add(Activation('softmax'))\n",
        "#Softmax function that takes as input a vector of K real numbers, and normalizes it into a \n",
        "#probability distribution consisting of K probabilities.\n",
        "#That is, prior to applying softmax, some vector components could be negative, or greater than one; \n",
        "#and might not sum to 1; but after applying softmax, each component will be in the interval ( 0 , 1 ), \n",
        "#and the components will add up to 1, so that they can be interpreted as probabilities."
      ],
      "execution_count": 60,
      "outputs": [
        {
          "output_type": "stream",
          "text": [
            "/usr/local/lib/python3.6/dist-packages/ipykernel_launcher.py:5: UserWarning: Update your `Conv2D` call to the Keras 2 API: `Conv2D(10, (3, 3), activation=\"relu\", input_shape=(28, 28, 1...)`\n",
            "  \"\"\"\n",
            "/usr/local/lib/python3.6/dist-packages/ipykernel_launcher.py:22: UserWarning: Update your `Conv2D` call to the Keras 2 API: `Conv2D(32, (3, 3), activation=\"relu\")`\n",
            "/usr/local/lib/python3.6/dist-packages/ipykernel_launcher.py:38: UserWarning: Update your `Conv2D` call to the Keras 2 API: `Conv2D(32, (3, 3), activation=\"relu\")`\n"
          ],
          "name": "stderr"
        }
      ]
    },
    {
      "cell_type": "code",
      "metadata": {
        "id": "TzdAYg1k9K7Z",
        "colab_type": "code",
        "outputId": "9a345580-5de0-42af-9335-32365898138a",
        "colab": {
          "base_uri": "https://localhost:8080/",
          "height": 510
        }
      },
      "source": [
        "model.summary()"
      ],
      "execution_count": 61,
      "outputs": [
        {
          "output_type": "stream",
          "text": [
            "_________________________________________________________________\n",
            "Layer (type)                 Output Shape              Param #   \n",
            "=================================================================\n",
            "conv2d_5 (Conv2D)            (None, 26, 26, 10)        100       \n",
            "_________________________________________________________________\n",
            "dropout_4 (Dropout)          (None, 26, 26, 10)        0         \n",
            "_________________________________________________________________\n",
            "max_pooling2d_3 (MaxPooling2 (None, 13, 13, 10)        0         \n",
            "_________________________________________________________________\n",
            "conv2d_6 (Conv2D)            (None, 11, 11, 32)        2912      \n",
            "_________________________________________________________________\n",
            "dropout_5 (Dropout)          (None, 11, 11, 32)        0         \n",
            "_________________________________________________________________\n",
            "max_pooling2d_4 (MaxPooling2 (None, 5, 5, 32)          0         \n",
            "_________________________________________________________________\n",
            "conv2d_7 (Conv2D)            (None, 3, 3, 32)          9248      \n",
            "_________________________________________________________________\n",
            "dropout_6 (Dropout)          (None, 3, 3, 32)          0         \n",
            "_________________________________________________________________\n",
            "conv2d_8 (Conv2D)            (None, 1, 1, 10)          2890      \n",
            "_________________________________________________________________\n",
            "flatten_2 (Flatten)          (None, 10)                0         \n",
            "_________________________________________________________________\n",
            "activation_2 (Activation)    (None, 10)                0         \n",
            "=================================================================\n",
            "Total params: 15,150\n",
            "Trainable params: 15,150\n",
            "Non-trainable params: 0\n",
            "_________________________________________________________________\n"
          ],
          "name": "stdout"
        }
      ]
    },
    {
      "cell_type": "code",
      "metadata": {
        "id": "Zp6SuGrL9M3h",
        "colab_type": "code",
        "outputId": "1ff04b97-9f12-4c71-dfb4-6aa628f9fb67",
        "colab": {
          "base_uri": "https://localhost:8080/",
          "height": 2091
        }
      },
      "source": [
        "from keras.optimizers import Adam\n",
        "from keras.callbacks import LearningRateScheduler\n",
        "def scheduler(epoch, lr):\n",
        "  return round(0.003 * 1/(1 + 0.319 * epoch), 10)\n",
        "\n",
        "model.compile(loss='categorical_crossentropy', optimizer=Adam(lr=0.003), metrics=['accuracy'])\n",
        "\n",
        "model.fit(X_train, Y_train, batch_size=128, epochs=30, verbose=1, validation_data=(X_test, Y_test), callbacks=[LearningRateScheduler(scheduler, verbose=1)])\n",
        "#model.compile(loss='categorical_crossentropy',\n",
        "#             optimizer='adam',\n",
        "#             metrics=['accuracy'])\n",
        "#model.compile(loss='categorical_crossentropy',\n",
        "#             optimizer=Adam(lr=0.003),\n",
        "#             metrics=['accuracy'])\n",
        "#categorical_crossentropy - It compares the predicted label and true label and calculates the loss. \n",
        "#When doing multi-class classification, categorical cross entropy loss is used a lot."
      ],
      "execution_count": 62,
      "outputs": [
        {
          "output_type": "stream",
          "text": [
            "Train on 60000 samples, validate on 10000 samples\n",
            "Epoch 1/30\n",
            "\n",
            "Epoch 00001: LearningRateScheduler setting learning rate to 0.003.\n",
            "60000/60000 [==============================] - 7s 109us/step - loss: 0.2633 - acc: 0.9157 - val_loss: 0.0944 - val_acc: 0.9811\n",
            "Epoch 2/30\n",
            "\n",
            "Epoch 00002: LearningRateScheduler setting learning rate to 0.0022744503.\n",
            "60000/60000 [==============================] - 6s 97us/step - loss: 0.0871 - acc: 0.9730 - val_loss: 0.0544 - val_acc: 0.9875\n",
            "Epoch 3/30\n",
            "\n",
            "Epoch 00003: LearningRateScheduler setting learning rate to 0.0018315018.\n",
            "60000/60000 [==============================] - 6s 97us/step - loss: 0.0652 - acc: 0.9802 - val_loss: 0.0473 - val_acc: 0.9875\n",
            "Epoch 4/30\n",
            "\n",
            "Epoch 00004: LearningRateScheduler setting learning rate to 0.0015329586.\n",
            "60000/60000 [==============================] - 6s 97us/step - loss: 0.0564 - acc: 0.9823 - val_loss: 0.0405 - val_acc: 0.9898\n",
            "Epoch 5/30\n",
            "\n",
            "Epoch 00005: LearningRateScheduler setting learning rate to 0.0013181019.\n",
            "60000/60000 [==============================] - 6s 97us/step - loss: 0.0497 - acc: 0.9842 - val_loss: 0.0363 - val_acc: 0.9915\n",
            "Epoch 6/30\n",
            "\n",
            "Epoch 00006: LearningRateScheduler setting learning rate to 0.0011560694.\n",
            "60000/60000 [==============================] - 6s 97us/step - loss: 0.0467 - acc: 0.9850 - val_loss: 0.0340 - val_acc: 0.9908\n",
            "Epoch 7/30\n",
            "\n",
            "Epoch 00007: LearningRateScheduler setting learning rate to 0.0010295127.\n",
            "60000/60000 [==============================] - 6s 97us/step - loss: 0.0427 - acc: 0.9858 - val_loss: 0.0349 - val_acc: 0.9901\n",
            "Epoch 8/30\n",
            "\n",
            "Epoch 00008: LearningRateScheduler setting learning rate to 0.0009279307.\n",
            "60000/60000 [==============================] - 6s 97us/step - loss: 0.0408 - acc: 0.9871 - val_loss: 0.0316 - val_acc: 0.9918\n",
            "Epoch 9/30\n",
            "\n",
            "Epoch 00009: LearningRateScheduler setting learning rate to 0.0008445946.\n",
            "60000/60000 [==============================] - 6s 98us/step - loss: 0.0373 - acc: 0.9878 - val_loss: 0.0304 - val_acc: 0.9926\n",
            "Epoch 10/30\n",
            "\n",
            "Epoch 00010: LearningRateScheduler setting learning rate to 0.0007749935.\n",
            "60000/60000 [==============================] - 6s 97us/step - loss: 0.0348 - acc: 0.9888 - val_loss: 0.0284 - val_acc: 0.9928\n",
            "Epoch 11/30\n",
            "\n",
            "Epoch 00011: LearningRateScheduler setting learning rate to 0.0007159905.\n",
            "60000/60000 [==============================] - 6s 98us/step - loss: 0.0332 - acc: 0.9889 - val_loss: 0.0270 - val_acc: 0.9929\n",
            "Epoch 12/30\n",
            "\n",
            "Epoch 00012: LearningRateScheduler setting learning rate to 0.000665336.\n",
            "60000/60000 [==============================] - 6s 99us/step - loss: 0.0322 - acc: 0.9897 - val_loss: 0.0303 - val_acc: 0.9929\n",
            "Epoch 13/30\n",
            "\n",
            "Epoch 00013: LearningRateScheduler setting learning rate to 0.0006213753.\n",
            "60000/60000 [==============================] - 6s 97us/step - loss: 0.0311 - acc: 0.9895 - val_loss: 0.0253 - val_acc: 0.9930\n",
            "Epoch 14/30\n",
            "\n",
            "Epoch 00014: LearningRateScheduler setting learning rate to 0.0005828638.\n",
            "60000/60000 [==============================] - 6s 97us/step - loss: 0.0298 - acc: 0.9904 - val_loss: 0.0247 - val_acc: 0.9927\n",
            "Epoch 15/30\n",
            "\n",
            "Epoch 00015: LearningRateScheduler setting learning rate to 0.0005488474.\n",
            "60000/60000 [==============================] - 6s 97us/step - loss: 0.0290 - acc: 0.9905 - val_loss: 0.0241 - val_acc: 0.9930\n",
            "Epoch 16/30\n",
            "\n",
            "Epoch 00016: LearningRateScheduler setting learning rate to 0.0005185825.\n",
            "60000/60000 [==============================] - 6s 98us/step - loss: 0.0287 - acc: 0.9906 - val_loss: 0.0245 - val_acc: 0.9934\n",
            "Epoch 17/30\n",
            "\n",
            "Epoch 00017: LearningRateScheduler setting learning rate to 0.000491481.\n",
            "60000/60000 [==============================] - 6s 97us/step - loss: 0.0277 - acc: 0.9909 - val_loss: 0.0235 - val_acc: 0.9929\n",
            "Epoch 18/30\n",
            "\n",
            "Epoch 00018: LearningRateScheduler setting learning rate to 0.0004670715.\n",
            "60000/60000 [==============================] - 6s 98us/step - loss: 0.0260 - acc: 0.9915 - val_loss: 0.0224 - val_acc: 0.9939\n",
            "Epoch 19/30\n",
            "\n",
            "Epoch 00019: LearningRateScheduler setting learning rate to 0.0004449718.\n",
            "60000/60000 [==============================] - 6s 98us/step - loss: 0.0266 - acc: 0.9916 - val_loss: 0.0232 - val_acc: 0.9933\n",
            "Epoch 20/30\n",
            "\n",
            "Epoch 00020: LearningRateScheduler setting learning rate to 0.000424869.\n",
            "60000/60000 [==============================] - 6s 101us/step - loss: 0.0243 - acc: 0.9923 - val_loss: 0.0229 - val_acc: 0.9936\n",
            "Epoch 21/30\n",
            "\n",
            "Epoch 00021: LearningRateScheduler setting learning rate to 0.0004065041.\n",
            "60000/60000 [==============================] - 6s 98us/step - loss: 0.0251 - acc: 0.9915 - val_loss: 0.0235 - val_acc: 0.9935\n",
            "Epoch 22/30\n",
            "\n",
            "Epoch 00022: LearningRateScheduler setting learning rate to 0.000389661.\n",
            "60000/60000 [==============================] - 6s 97us/step - loss: 0.0250 - acc: 0.9918 - val_loss: 0.0216 - val_acc: 0.9936\n",
            "Epoch 23/30\n",
            "\n",
            "Epoch 00023: LearningRateScheduler setting learning rate to 0.0003741581.\n",
            "60000/60000 [==============================] - 6s 97us/step - loss: 0.0239 - acc: 0.9919 - val_loss: 0.0218 - val_acc: 0.9934\n",
            "Epoch 24/30\n",
            "\n",
            "Epoch 00024: LearningRateScheduler setting learning rate to 0.0003598417.\n",
            "60000/60000 [==============================] - 6s 97us/step - loss: 0.0228 - acc: 0.9923 - val_loss: 0.0221 - val_acc: 0.9938\n",
            "Epoch 25/30\n",
            "\n",
            "Epoch 00025: LearningRateScheduler setting learning rate to 0.0003465804.\n",
            "60000/60000 [==============================] - 6s 97us/step - loss: 0.0232 - acc: 0.9921 - val_loss: 0.0220 - val_acc: 0.9944\n",
            "Epoch 26/30\n",
            "\n",
            "Epoch 00026: LearningRateScheduler setting learning rate to 0.0003342618.\n",
            "60000/60000 [==============================] - 6s 96us/step - loss: 0.0220 - acc: 0.9928 - val_loss: 0.0204 - val_acc: 0.9938\n",
            "Epoch 27/30\n",
            "\n",
            "Epoch 00027: LearningRateScheduler setting learning rate to 0.0003227889.\n",
            "60000/60000 [==============================] - 6s 97us/step - loss: 0.0234 - acc: 0.9922 - val_loss: 0.0217 - val_acc: 0.9942\n",
            "Epoch 28/30\n",
            "\n",
            "Epoch 00028: LearningRateScheduler setting learning rate to 0.0003120774.\n",
            "60000/60000 [==============================] - 6s 97us/step - loss: 0.0223 - acc: 0.9923 - val_loss: 0.0201 - val_acc: 0.9948\n",
            "Epoch 29/30\n",
            "\n",
            "Epoch 00029: LearningRateScheduler setting learning rate to 0.000302054.\n",
            "60000/60000 [==============================] - 6s 98us/step - loss: 0.0211 - acc: 0.9927 - val_loss: 0.0207 - val_acc: 0.9946\n",
            "Epoch 30/30\n",
            "\n",
            "Epoch 00030: LearningRateScheduler setting learning rate to 0.0002926544.\n",
            "60000/60000 [==============================] - 6s 98us/step - loss: 0.0214 - acc: 0.9928 - val_loss: 0.0211 - val_acc: 0.9943\n"
          ],
          "name": "stdout"
        },
        {
          "output_type": "execute_result",
          "data": {
            "text/plain": [
              "<keras.callbacks.History at 0x7f5107c5c0b8>"
            ]
          },
          "metadata": {
            "tags": []
          },
          "execution_count": 62
        }
      ]
    },
    {
      "cell_type": "code",
      "metadata": {
        "id": "AtsH-lLk-eLb",
        "colab_type": "code",
        "colab": {}
      },
      "source": [
        "#score = model.evaluate(X_test, Y_test, verbose=0)#Returns loss value and metric values for the Test Dataset"
      ],
      "execution_count": 0,
      "outputs": []
    },
    {
      "cell_type": "code",
      "metadata": {
        "id": "4xWoKhPY9Of5",
        "colab_type": "code",
        "colab": {}
      },
      "source": [
        "#model.fit(X_train, Y_train, batch_size=32, nb_epoch=20, verbose=1)\n",
        "#Trains the model for the given number of epochs (iterations on a Dataset)."
      ],
      "execution_count": 0,
      "outputs": []
    },
    {
      "cell_type": "code",
      "metadata": {
        "id": "mkX8JMv79q9r",
        "colab_type": "code",
        "colab": {}
      },
      "source": [
        "#print(score)"
      ],
      "execution_count": 0,
      "outputs": []
    },
    {
      "cell_type": "code",
      "metadata": {
        "id": "OCWoJkwE9suh",
        "colab_type": "code",
        "colab": {}
      },
      "source": [
        "y_pred = model.predict(X_test)#Generate output predictions for the input data."
      ],
      "execution_count": 0,
      "outputs": []
    },
    {
      "cell_type": "code",
      "metadata": {
        "id": "Ym7iCFBm9uBs",
        "colab_type": "code",
        "outputId": "de304fa3-dc28-40a0-a647-a34542329395",
        "colab": {
          "base_uri": "https://localhost:8080/",
          "height": 340
        }
      },
      "source": [
        "print(y_pred[:9])\n",
        "print(y_test[:9])"
      ],
      "execution_count": 67,
      "outputs": [
        {
          "output_type": "stream",
          "text": [
            "[[2.4718906e-08 4.9913283e-06 1.8072076e-05 3.1204672e-05 4.3077983e-10\n",
            "  4.8445386e-08 5.9132522e-13 9.9991608e-01 8.3006093e-08 2.9582952e-05]\n",
            " [1.4410194e-05 4.5848687e-05 9.9993777e-01 7.2821166e-10 4.6573180e-07\n",
            "  1.3450638e-10 1.2775865e-06 1.2589729e-07 1.4895274e-08 1.1508327e-09]\n",
            " [2.2714889e-07 9.9950111e-01 3.1768086e-05 9.1116749e-07 3.5703604e-04\n",
            "  5.0622134e-06 5.6631470e-06 6.9949841e-05 1.1965079e-05 1.6288901e-05]\n",
            " [9.9571568e-01 8.5637835e-09 1.7182278e-05 8.0482226e-07 1.9984902e-06\n",
            "  1.3160617e-04 3.8219055e-03 8.6007985e-06 1.3739603e-04 1.6477039e-04]\n",
            " [8.9753158e-08 1.2434110e-06 8.3691702e-08 1.0143968e-09 9.9954361e-01\n",
            "  4.1922760e-08 6.5909529e-07 1.1175763e-06 1.1773182e-07 4.5302999e-04]\n",
            " [2.7402243e-07 9.9983311e-01 1.2406384e-05 2.3463338e-07 9.1825554e-05\n",
            "  2.1140579e-06 4.5436221e-07 3.8559643e-05 3.9279998e-06 1.7212655e-05]\n",
            " [1.5236470e-11 1.2391673e-06 2.0314626e-07 9.7996600e-10 9.9988592e-01\n",
            "  2.3041837e-06 3.8093629e-11 3.5945632e-05 3.6157799e-05 3.8268743e-05]\n",
            " [7.3136698e-06 7.3183821e-07 2.6966422e-04 6.7620684e-05 7.1471662e-04\n",
            "  2.2867930e-04 2.8137219e-07 3.0248935e-05 6.0898328e-04 9.9807179e-01]\n",
            " [1.5157339e-04 1.8770485e-09 3.8266968e-05 1.3592283e-07 5.9577599e-07\n",
            "  9.6866924e-01 3.0960321e-02 1.6669456e-07 1.1797210e-04 6.1739818e-05]]\n",
            "[7 2 1 0 4 1 4 9 5]\n"
          ],
          "name": "stdout"
        }
      ]
    },
    {
      "cell_type": "code",
      "metadata": {
        "id": "CT--y98_dr2T",
        "colab_type": "code",
        "colab": {}
      },
      "source": [
        "layer_dict = dict([(layer.name, layer) for layer in model.layers])"
      ],
      "execution_count": 0,
      "outputs": []
    },
    {
      "cell_type": "code",
      "metadata": {
        "id": "2GY4Upv4dsUR",
        "colab_type": "code",
        "outputId": "e46e55ed-32e1-45a9-acf8-2e6b3fc1c45d",
        "colab": {
          "base_uri": "https://localhost:8080/",
          "height": 316
        }
      },
      "source": [
        "import numpy as np\n",
        "from matplotlib import pyplot as plt\n",
        "from keras import backend as K\n",
        "%matplotlib inline\n",
        "# util function to convert a tensor into a valid image\n",
        "def deprocess_image(x):\n",
        "    # normalize tensor: center on 0., ensure std is 0.1\n",
        "    x -= x.mean()\n",
        "    x /= (x.std() + 1e-5)\n",
        "    x *= 0.1\n",
        "\n",
        "    # clip to [0, 1]\n",
        "    x += 0.5\n",
        "    x = np.clip(x, 0, 1)\n",
        "\n",
        "    # convert to RGB array\n",
        "    x *= 255\n",
        "    #x = x.transpose((1, 2, 0))\n",
        "    x = np.clip(x, 0, 255).astype('uint8')\n",
        "    return x\n",
        "\n",
        "def vis_img_in_filter(img = np.array(X_train[2]).reshape((1, 28, 28, 1)).astype(np.float64), \n",
        "                      layer_name = 'conv2d_14'):\n",
        "    layer_output = layer_dict[layer_name].output\n",
        "    img_ascs = list()\n",
        "    for filter_index in range(layer_output.shape[3]):\n",
        "        # build a loss function that maximizes the activation\n",
        "        # of the nth filter of the layer considered\n",
        "        loss = K.mean(layer_output[:, :, :, filter_index])\n",
        "\n",
        "        # compute the gradient of the input picture wrt this loss\n",
        "        grads = K.gradients(loss, model.input)[0]\n",
        "\n",
        "        # normalization trick: we normalize the gradient\n",
        "        grads /= (K.sqrt(K.mean(K.square(grads))) + 1e-5)\n",
        "\n",
        "        # this function returns the loss and grads given the input picture\n",
        "        iterate = K.function([model.input], [loss, grads])\n",
        "\n",
        "        # step size for gradient ascent\n",
        "        step = 5.\n",
        "\n",
        "        img_asc = np.array(img)\n",
        "        # run gradient ascent for 20 steps\n",
        "        for i in range(20):\n",
        "            loss_value, grads_value = iterate([img_asc])\n",
        "            img_asc += grads_value * step\n",
        "\n",
        "        img_asc = img_asc[0]\n",
        "        img_ascs.append(deprocess_image(img_asc).reshape((28, 28)))\n",
        "        \n",
        "    if layer_output.shape[3] >= 35:\n",
        "        plot_x, plot_y = 6, 6\n",
        "    elif layer_output.shape[3] >= 23:\n",
        "        plot_x, plot_y = 4, 6\n",
        "    elif layer_output.shape[3] >= 11:\n",
        "        plot_x, plot_y = 2, 6\n",
        "    else:\n",
        "        plot_x, plot_y = 1, 2\n",
        "    fig, ax = plt.subplots(plot_x, plot_y, figsize = (12, 12))\n",
        "    ax[0, 0].imshow(img.reshape((28, 28)), cmap = 'gray')\n",
        "    ax[0, 0].set_title('Input image')\n",
        "    fig.suptitle('Input image and %s filters' % (layer_name,))\n",
        "    fig.tight_layout(pad = 0.3, rect = [0, 0, 0.9, 0.9])\n",
        "    for (x, y) in [(i, j) for i in range(plot_x) for j in range(plot_y)]:\n",
        "        if x == 0 and y == 0:\n",
        "            continue\n",
        "        ax[x, y].imshow(img_ascs[x * plot_y + y - 1], cmap = 'gray')\n",
        "        ax[x, y].set_title('filter %d' % (x * plot_y + y - 1))\n",
        "\n",
        "vis_img_in_filter()"
      ],
      "execution_count": 69,
      "outputs": [
        {
          "output_type": "error",
          "ename": "KeyError",
          "evalue": "ignored",
          "traceback": [
            "\u001b[0;31m---------------------------------------------------------------------------\u001b[0m",
            "\u001b[0;31mKeyError\u001b[0m                                  Traceback (most recent call last)",
            "\u001b[0;32m<ipython-input-69-19229f66b51a>\u001b[0m in \u001b[0;36m<module>\u001b[0;34m()\u001b[0m\n\u001b[1;32m     69\u001b[0m         \u001b[0max\u001b[0m\u001b[0;34m[\u001b[0m\u001b[0mx\u001b[0m\u001b[0;34m,\u001b[0m \u001b[0my\u001b[0m\u001b[0;34m]\u001b[0m\u001b[0;34m.\u001b[0m\u001b[0mset_title\u001b[0m\u001b[0;34m(\u001b[0m\u001b[0;34m'filter %d'\u001b[0m \u001b[0;34m%\u001b[0m \u001b[0;34m(\u001b[0m\u001b[0mx\u001b[0m \u001b[0;34m*\u001b[0m \u001b[0mplot_y\u001b[0m \u001b[0;34m+\u001b[0m \u001b[0my\u001b[0m \u001b[0;34m-\u001b[0m \u001b[0;36m1\u001b[0m\u001b[0;34m)\u001b[0m\u001b[0;34m)\u001b[0m\u001b[0;34m\u001b[0m\u001b[0;34m\u001b[0m\u001b[0m\n\u001b[1;32m     70\u001b[0m \u001b[0;34m\u001b[0m\u001b[0m\n\u001b[0;32m---> 71\u001b[0;31m \u001b[0mvis_img_in_filter\u001b[0m\u001b[0;34m(\u001b[0m\u001b[0;34m)\u001b[0m\u001b[0;34m\u001b[0m\u001b[0;34m\u001b[0m\u001b[0m\n\u001b[0m",
            "\u001b[0;32m<ipython-input-69-19229f66b51a>\u001b[0m in \u001b[0;36mvis_img_in_filter\u001b[0;34m(img, layer_name)\u001b[0m\n\u001b[1;32m     22\u001b[0m def vis_img_in_filter(img = np.array(X_train[2]).reshape((1, 28, 28, 1)).astype(np.float64), \n\u001b[1;32m     23\u001b[0m                       layer_name = 'conv2d_14'):\n\u001b[0;32m---> 24\u001b[0;31m     \u001b[0mlayer_output\u001b[0m \u001b[0;34m=\u001b[0m \u001b[0mlayer_dict\u001b[0m\u001b[0;34m[\u001b[0m\u001b[0mlayer_name\u001b[0m\u001b[0;34m]\u001b[0m\u001b[0;34m.\u001b[0m\u001b[0moutput\u001b[0m\u001b[0;34m\u001b[0m\u001b[0;34m\u001b[0m\u001b[0m\n\u001b[0m\u001b[1;32m     25\u001b[0m     \u001b[0mimg_ascs\u001b[0m \u001b[0;34m=\u001b[0m \u001b[0mlist\u001b[0m\u001b[0;34m(\u001b[0m\u001b[0;34m)\u001b[0m\u001b[0;34m\u001b[0m\u001b[0;34m\u001b[0m\u001b[0m\n\u001b[1;32m     26\u001b[0m     \u001b[0;32mfor\u001b[0m \u001b[0mfilter_index\u001b[0m \u001b[0;32min\u001b[0m \u001b[0mrange\u001b[0m\u001b[0;34m(\u001b[0m\u001b[0mlayer_output\u001b[0m\u001b[0;34m.\u001b[0m\u001b[0mshape\u001b[0m\u001b[0;34m[\u001b[0m\u001b[0;36m3\u001b[0m\u001b[0;34m]\u001b[0m\u001b[0;34m)\u001b[0m\u001b[0;34m:\u001b[0m\u001b[0;34m\u001b[0m\u001b[0;34m\u001b[0m\u001b[0m\n",
            "\u001b[0;31mKeyError\u001b[0m: 'conv2d_14'"
          ]
        }
      ]
    },
    {
      "cell_type": "code",
      "metadata": {
        "id": "9tvptcn8dxvp",
        "colab_type": "code",
        "colab": {}
      },
      "source": [
        ""
      ],
      "execution_count": 0,
      "outputs": []
    }
  ]
}