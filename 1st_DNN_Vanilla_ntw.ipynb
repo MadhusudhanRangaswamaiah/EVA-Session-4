{
  "nbformat": 4,
  "nbformat_minor": 0,
  "metadata": {
    "colab": {
      "name": "1st DNN Vanilla ntw.ipynb",
      "version": "0.3.2",
      "provenance": [],
      "collapsed_sections": [],
      "include_colab_link": true
    },
    "kernelspec": {
      "name": "python3",
      "display_name": "Python 3"
    },
    "accelerator": "GPU"
  },
  "cells": [
    {
      "cell_type": "markdown",
      "metadata": {
        "id": "view-in-github",
        "colab_type": "text"
      },
      "source": [
        "<a href=\"https://colab.research.google.com/github/MadhusudhanRangaswamaiah/EVA-Session-4/blob/master/1st_DNN_Vanilla_ntw.ipynb\" target=\"_parent\"><img src=\"https://colab.research.google.com/assets/colab-badge.svg\" alt=\"Open In Colab\"/></a>"
      ]
    },
    {
      "cell_type": "markdown",
      "metadata": {
        "id": "ALx8FC61jooZ",
        "colab_type": "text"
      },
      "source": [
        "# Starter Network called Vanilla Network-\n",
        "None of the following techniques are used in this network - \n",
        "\n",
        "* Batch Normalization\n",
        "* Dropout\n",
        "* Larger Batch Size etc.\n",
        "\n",
        "Only Convolution 2D and MaxPooling 2D Layers are used.\n",
        "\n",
        "**Total Parameters** of this ntw is **21,706** with **6 Layers** and gives a **Test accuracy of 99.13%** with **10 epoch**\n",
        "\n",
        "Some of the above techniques will be introduced in the subsequent networks and any changes in the performance will be noted.\n"
      ]
    },
    {
      "cell_type": "markdown",
      "metadata": {
        "id": "aNyZv-Ec52ot",
        "colab_type": "text"
      },
      "source": [
        "# **Import Libraries and modules**"
      ]
    },
    {
      "cell_type": "code",
      "metadata": {
        "id": "3m3w1Cw49Zkt",
        "colab_type": "code",
        "outputId": "ee7cf3ff-e8d2-4727-f767-5f4854c82f7d",
        "colab": {
          "base_uri": "https://localhost:8080/",
          "height": 34
        }
      },
      "source": [
        "# https://keras.io/\n",
        "!pip install -q keras\n",
        "                      #The Python Package Index (PyPI) is a repository of \n",
        "                      #software for the Python programming language.\n",
        "    \n",
        "                      #pip installs Keras. Keras is an open network open-source \n",
        "                      #neural-network library written in Python. \n",
        "import keras\n",
        "                      #Python code in this module gains access to the code \n",
        "                      #in Keras module by the process of importing it using \n",
        "                      #the import statement.\n",
        "      \n",
        "                      #Keras is an open source neural-network library written \n",
        "                      #in Python.\n",
        "                      #Keras-Modular: Building models is as simple as stacking \n",
        "                      #layers and connecting graphs."
      ],
      "execution_count": 0,
      "outputs": [
        {
          "output_type": "stream",
          "text": [
            "Using TensorFlow backend.\n"
          ],
          "name": "stderr"
        }
      ]
    },
    {
      "cell_type": "code",
      "metadata": {
        "id": "Eso6UHE080D4",
        "colab_type": "code",
        "colab": {}
      },
      "source": [
        "import numpy as np    # import numpy package as np (alias)\n",
        "from keras.models import Sequential\n",
        "                                        #The core data structure of Keras is \n",
        "                                        #a model (a way to organize layers)\n",
        "                                        #The Simplest type of model is \n",
        "                                        #Sequential Model (a linear stack of \n",
        "                                        #layers)\n",
        "from keras.layers import Dense, Dropout, Activation, Flatten, Add\n",
        "from keras.layers import Convolution2D, MaxPooling2D          # Layers' details\n",
        "from keras.utils import np_utils\n",
        "\n",
        "from keras.datasets import mnist        #MNIST database of handwritten digits\n",
        "                                        #Dataset of 60,000 28x28 grayscale \n",
        "                                        #images of the 10 digits, along with a \n",
        "                                        #test set of 10,000 images."
      ],
      "execution_count": 0,
      "outputs": []
    },
    {
      "cell_type": "markdown",
      "metadata": {
        "id": "zByEi95J86RD",
        "colab_type": "text"
      },
      "source": [
        "### Load pre-shuffled MNIST data into train and test sets"
      ]
    },
    {
      "cell_type": "code",
      "metadata": {
        "id": "7eRM0QWN83PV",
        "colab_type": "code",
        "outputId": "94415337-64d3-4d6f-9b40-48b8b81b1bde",
        "colab": {
          "base_uri": "https://localhost:8080/",
          "height": 51
        }
      },
      "source": [
        "(X_train, y_train), (X_test, y_test) = mnist.load_data()\n",
        "#Returns 2 Tuples - \n",
        "                                                           \n",
        "#1. x_train, x_test: uint8 array of grayscale image data with shape \n",
        "#   (num_samples, 28, 28).\n",
        "#2. y_train, y_test: uint8 array of digit labels (integers in range 0-9) with \n",
        "#   shape (num_samples,)."
      ],
      "execution_count": 0,
      "outputs": [
        {
          "output_type": "stream",
          "text": [
            "Downloading data from https://s3.amazonaws.com/img-datasets/mnist.npz\n",
            "11493376/11490434 [==============================] - 0s 0us/step\n"
          ],
          "name": "stdout"
        }
      ]
    },
    {
      "cell_type": "code",
      "metadata": {
        "id": "4a4Be72j8-ZC",
        "colab_type": "code",
        "outputId": "ce152e24-4889-4ac3-df9f-a973665aee30",
        "colab": {
          "base_uri": "https://localhost:8080/",
          "height": 303
        }
      },
      "source": [
        "print (X_train.shape)#Prints the dimension of the array X_train-\n",
        "                     # Dataset of 60,000 28x28 grayscale images of the 10 digits\n",
        "from matplotlib import pyplot as plt\n",
        "%matplotlib inline\n",
        "plt.imshow(X_train[0])#Displays the first image in X_train Dataset"
      ],
      "execution_count": 0,
      "outputs": [
        {
          "output_type": "stream",
          "text": [
            "(60000, 28, 28)\n"
          ],
          "name": "stdout"
        },
        {
          "output_type": "execute_result",
          "data": {
            "text/plain": [
              "<matplotlib.image.AxesImage at 0x7ffa4dc150b8>"
            ]
          },
          "metadata": {
            "tags": []
          },
          "execution_count": 4
        },
        {
          "output_type": "display_data",
          "data": {
            "image/png": "[encoded data removed]",
            "text/plain": [
              "<Figure size 432x288 with 1 Axes>"
            ]
          },
          "metadata": {
            "tags": []
          }
        }
      ]
    },
    {
      "cell_type": "code",
      "metadata": {
        "id": "dkmprriw9AnZ",
        "colab_type": "code",
        "colab": {}
      },
      "source": [
        "X_train = X_train.reshape(X_train.shape[0], 28, 28,1)\n",
        "# (60000, 28, 28, 1)==>(nb_samples, width, height, nb_channels)\n",
        "X_test = X_test.reshape(X_test.shape[0], 28, 28,1)\n",
        "# (10000, 28, 28, 1)==>(nb_samples, width, height, nb_channels)"
      ],
      "execution_count": 0,
      "outputs": []
    },
    {
      "cell_type": "code",
      "metadata": {
        "id": "X2m4YS4E9CRh",
        "colab_type": "code",
        "colab": {}
      },
      "source": [
        "X_train = X_train.astype('float32')  #Convert X_train data from uint8 (0to255)\n",
        "                                     #to float32 \n",
        "X_test = X_test.astype('float32')    #Convert X_test data from uint8 (0to255) \n",
        "                                     #to float32\n",
        "X_train /= 255                       #Normalize X_train data\n",
        "X_test /= 255                        #Normalize X_test data"
      ],
      "execution_count": 0,
      "outputs": []
    },
    {
      "cell_type": "code",
      "metadata": {
        "id": "0Mn0vAYD9DvB",
        "colab_type": "code",
        "outputId": "b8f2f643-7449-419b-c3b7-0d1e94996604",
        "colab": {
          "base_uri": "https://localhost:8080/",
          "height": 34
        }
      },
      "source": [
        "y_train[:10]"
      ],
      "execution_count": 0,
      "outputs": [
        {
          "output_type": "execute_result",
          "data": {
            "text/plain": [
              "array([5, 0, 4, 1, 9, 2, 1, 3, 1, 4], dtype=uint8)"
            ]
          },
          "metadata": {
            "tags": []
          },
          "execution_count": 7
        }
      ]
    },
    {
      "cell_type": "code",
      "metadata": {
        "id": "ZG8JiXR39FHC",
        "colab_type": "code",
        "colab": {}
      },
      "source": [
        "# Convert 1-dimensional class arrays to 10-dimensional class matrices\n",
        "Y_train = np_utils.to_categorical(y_train, 10)\n",
        "Y_test = np_utils.to_categorical(y_test, 10)"
      ],
      "execution_count": 0,
      "outputs": []
    },
    {
      "cell_type": "code",
      "metadata": {
        "id": "fYlFRvKS9HMB",
        "colab_type": "code",
        "outputId": "dc053931-bf1a-48c1-e888-dc328178e901",
        "colab": {
          "base_uri": "https://localhost:8080/",
          "height": 187
        }
      },
      "source": [
        "Y_train[:10]\n",
        "#uint8 array of labels (integers in range 0-9) with shape (num_samples,)==> \n",
        "#First 10 Data"
      ],
      "execution_count": 0,
      "outputs": [
        {
          "output_type": "execute_result",
          "data": {
            "text/plain": [
              "array([[0., 0., 0., 0., 0., 1., 0., 0., 0., 0.],\n",
              "       [1., 0., 0., 0., 0., 0., 0., 0., 0., 0.],\n",
              "       [0., 0., 0., 0., 1., 0., 0., 0., 0., 0.],\n",
              "       [0., 1., 0., 0., 0., 0., 0., 0., 0., 0.],\n",
              "       [0., 0., 0., 0., 0., 0., 0., 0., 0., 1.],\n",
              "       [0., 0., 1., 0., 0., 0., 0., 0., 0., 0.],\n",
              "       [0., 1., 0., 0., 0., 0., 0., 0., 0., 0.],\n",
              "       [0., 0., 0., 1., 0., 0., 0., 0., 0., 0.],\n",
              "       [0., 1., 0., 0., 0., 0., 0., 0., 0., 0.],\n",
              "       [0., 0., 0., 0., 1., 0., 0., 0., 0., 0.]], dtype=float32)"
            ]
          },
          "metadata": {
            "tags": []
          },
          "execution_count": 9
        }
      ]
    },
    {
      "cell_type": "code",
      "metadata": {
        "id": "osKqT73Q9JJB",
        "colab_type": "code",
        "outputId": "63512a03-949b-48a5-a45c-c06768fd34c1",
        "colab": {
          "base_uri": "https://localhost:8080/",
          "height": 173
        }
      },
      "source": [
        "from keras.layers import Activation\n",
        "model = Sequential()\n",
        "\n",
        " \n",
        "model.add(Convolution2D(32, 3, 3, activation='relu', input_shape=(28,28,1)))\n",
        "#LAYER 1\n",
        "#(# of filters, Kernel Size, activation='relu',\n",
        "#input shape must be specified for first Layer-->28x28 (1 Channel))\n",
        "#'relu' - Rectified Linear Unit: returns element-wise max(x, 0).\n",
        "#i/p(28x28x(1Channel)|(3x3x(1Channel)x(32 no. of filters)|(26x26x(32 no. of channels))o/p\n",
        "\n",
        "model.add(MaxPooling2D(pool_size = (2,2)))\n",
        "#LAYER 2\n",
        "#MaxPooling --> o/p 13x13x(32 no. of channels)\n",
        "\n",
        "model.add(Convolution2D(32, 3, 3, activation='relu'))\n",
        "#LAYER 3\n",
        "#(# of filters, Kernel Size, activation='relu',\n",
        "#'relu' - Rectified Linear Unit: returns element-wise max(x, 0).\n",
        "#i/p(13x213x(32 Channel)|(3x3x(32Channel)x(32 no. of filters)|(11x11x(32 no. of channels))o/p\n",
        "\n",
        "model.add(MaxPooling2D(pool_size = (2,2)))\n",
        "#LAYER 4\n",
        "#MaxPooling --> o/p 5x5x(32 no. of channels)\n",
        "\n",
        "model.add(Convolution2D(32, 3, 3, activation='relu'))\n",
        "#LAYER 5\n",
        "#(# of filters, Kernel Size, activation='relu',\n",
        "#'relu' - Rectified Linear Unit: returns element-wise max(x, 0).\n",
        "#i/p(5x5x(32 Channel)|(3x3x(32Channel)x(32 no. of filters)|(3x3x(32 no. of channels))o/p\n",
        "\n",
        "model.add(Convolution2D(10, 3))\n",
        "#LAYER 6\n",
        "#'relu' - Rectified Linear Unit: returns element-wise max(x, 0).\n",
        "#i/p(3x3x(1Channel)|(3x3x(32Channel)x(10 no. of filters)|(1x1x(10 no. of channels))o/p\n",
        "\n",
        "model.add(Flatten())\n",
        "# now: model.output_shape == (None, 10)\n",
        "# Flattening means to remove all of the dimensions except for one.\n",
        "\n",
        "model.add(Activation('softmax'))\n",
        "#Softmax function that takes as input a vector of K real numbers, and normalizes it into a \n",
        "#probability distribution consisting of K probabilities.\n",
        "#That is, prior to applying softmax, some vector components could be negative, or greater than one; \n",
        "#and might not sum to 1; but after applying softmax, each component will be in the interval ( 0 , 1 ), \n",
        "#and the components will add up to 1, so that they can be interpreted as probabilities."
      ],
      "execution_count": 0,
      "outputs": [
        {
          "output_type": "stream",
          "text": [
            "WARNING:tensorflow:From /usr/local/lib/python3.6/dist-packages/tensorflow/python/framework/op_def_library.py:263: colocate_with (from tensorflow.python.framework.ops) is deprecated and will be removed in a future version.\n",
            "Instructions for updating:\n",
            "Colocations handled automatically by placer.\n"
          ],
          "name": "stdout"
        },
        {
          "output_type": "stream",
          "text": [
            "/usr/local/lib/python3.6/dist-packages/ipykernel_launcher.py:5: UserWarning: Update your `Conv2D` call to the Keras 2 API: `Conv2D(32, (3, 3), activation=\"relu\", input_shape=(28, 28, 1...)`\n",
            "  \"\"\"\n",
            "/usr/local/lib/python3.6/dist-packages/ipykernel_launcher.py:16: UserWarning: Update your `Conv2D` call to the Keras 2 API: `Conv2D(32, (3, 3), activation=\"relu\")`\n",
            "  app.launch_new_instance()\n",
            "/usr/local/lib/python3.6/dist-packages/ipykernel_launcher.py:26: UserWarning: Update your `Conv2D` call to the Keras 2 API: `Conv2D(32, (3, 3), activation=\"relu\")`\n"
          ],
          "name": "stderr"
        }
      ]
    },
    {
      "cell_type": "code",
      "metadata": {
        "id": "TzdAYg1k9K7Z",
        "colab_type": "code",
        "outputId": "e0e90015-7554-4b78-d058-7a9807c2f55d",
        "colab": {
          "base_uri": "https://localhost:8080/",
          "height": 408
        }
      },
      "source": [
        "model.summary()"
      ],
      "execution_count": 0,
      "outputs": [
        {
          "output_type": "stream",
          "text": [
            "_________________________________________________________________\n",
            "Layer (type)                 Output Shape              Param #   \n",
            "=================================================================\n",
            "conv2d_1 (Conv2D)            (None, 26, 26, 32)        320       \n",
            "_________________________________________________________________\n",
            "max_pooling2d_1 (MaxPooling2 (None, 13, 13, 32)        0         \n",
            "_________________________________________________________________\n",
            "conv2d_2 (Conv2D)            (None, 11, 11, 32)        9248      \n",
            "_________________________________________________________________\n",
            "max_pooling2d_2 (MaxPooling2 (None, 5, 5, 32)          0         \n",
            "_________________________________________________________________\n",
            "conv2d_3 (Conv2D)            (None, 3, 3, 32)          9248      \n",
            "_________________________________________________________________\n",
            "conv2d_4 (Conv2D)            (None, 1, 1, 10)          2890      \n",
            "_________________________________________________________________\n",
            "flatten_1 (Flatten)          (None, 10)                0         \n",
            "_________________________________________________________________\n",
            "activation_1 (Activation)    (None, 10)                0         \n",
            "=================================================================\n",
            "Total params: 21,706\n",
            "Trainable params: 21,706\n",
            "Non-trainable params: 0\n",
            "_________________________________________________________________\n"
          ],
          "name": "stdout"
        }
      ]
    },
    {
      "cell_type": "code",
      "metadata": {
        "id": "Zp6SuGrL9M3h",
        "colab_type": "code",
        "colab": {}
      },
      "source": [
        "model.compile(loss='categorical_crossentropy',\n",
        "             optimizer='adam',\n",
        "             metrics=['accuracy'])\n",
        "#categorical_crossentropy - It compares the predicted label and true label and calculates the loss. \n",
        "#When doing multi-class classification, categorical cross entropy loss is used a lot."
      ],
      "execution_count": 0,
      "outputs": []
    },
    {
      "cell_type": "code",
      "metadata": {
        "id": "4xWoKhPY9Of5",
        "colab_type": "code",
        "outputId": "63dfe7fa-c714-4967-f3bf-5917a048b45b",
        "colab": {
          "base_uri": "https://localhost:8080/",
          "height": 479
        }
      },
      "source": [
        "model.fit(X_train, Y_train, batch_size=32, nb_epoch=10, verbose=1)\n",
        "#Trains the model for the given number of epochs (iterations on a Dataset)."
      ],
      "execution_count": 0,
      "outputs": [
        {
          "output_type": "stream",
          "text": [
            "/usr/local/lib/python3.6/dist-packages/ipykernel_launcher.py:1: UserWarning: The `nb_epoch` argument in `fit` has been renamed `epochs`.\n",
            "  \"\"\"Entry point for launching an IPython kernel.\n"
          ],
          "name": "stderr"
        },
        {
          "output_type": "stream",
          "text": [
            "WARNING:tensorflow:From /usr/local/lib/python3.6/dist-packages/tensorflow/python/ops/math_ops.py:3066: to_int32 (from tensorflow.python.ops.math_ops) is deprecated and will be removed in a future version.\n",
            "Instructions for updating:\n",
            "Use tf.cast instead.\n",
            "Epoch 1/10\n",
            "60000/60000 [==============================] - 12s 197us/step - loss: 0.1849 - acc: 0.9450\n",
            "Epoch 2/10\n",
            "60000/60000 [==============================] - 8s 125us/step - loss: 0.0601 - acc: 0.9812\n",
            "Epoch 3/10\n",
            "60000/60000 [==============================] - 8s 127us/step - loss: 0.0443 - acc: 0.9867\n",
            "Epoch 4/10\n",
            "60000/60000 [==============================] - 8s 138us/step - loss: 0.0348 - acc: 0.9886\n",
            "Epoch 5/10\n",
            "60000/60000 [==============================] - 8s 131us/step - loss: 0.0275 - acc: 0.9910\n",
            "Epoch 6/10\n",
            "60000/60000 [==============================] - 8s 126us/step - loss: 0.0233 - acc: 0.9923\n",
            "Epoch 7/10\n",
            "60000/60000 [==============================] - 8s 126us/step - loss: 0.0188 - acc: 0.9939\n",
            "Epoch 8/10\n",
            "60000/60000 [==============================] - 7s 124us/step - loss: 0.0166 - acc: 0.9949\n",
            "Epoch 9/10\n",
            "60000/60000 [==============================] - 7s 124us/step - loss: 0.0141 - acc: 0.9957\n",
            "Epoch 10/10\n",
            "60000/60000 [==============================] - 7s 124us/step - loss: 0.0118 - acc: 0.9961\n"
          ],
          "name": "stdout"
        },
        {
          "output_type": "execute_result",
          "data": {
            "text/plain": [
              "<keras.callbacks.History at 0x7ffa4e0c8ba8>"
            ]
          },
          "metadata": {
            "tags": []
          },
          "execution_count": 13
        }
      ]
    },
    {
      "cell_type": "code",
      "metadata": {
        "id": "AtsH-lLk-eLb",
        "colab_type": "code",
        "colab": {}
      },
      "source": [
        "score = model.evaluate(X_test, Y_test, verbose=0)#Returns loss value and metric values for the Test Dataset"
      ],
      "execution_count": 0,
      "outputs": []
    },
    {
      "cell_type": "code",
      "metadata": {
        "id": "mkX8JMv79q9r",
        "colab_type": "code",
        "outputId": "c056637d-b6fa-4efe-f359-793a74f2fdbc",
        "colab": {
          "base_uri": "https://localhost:8080/",
          "height": 34
        }
      },
      "source": [
        "print(score)"
      ],
      "execution_count": 0,
      "outputs": [
        {
          "output_type": "stream",
          "text": [
            "[0.030287798521954484, 0.9913]\n"
          ],
          "name": "stdout"
        }
      ]
    },
    {
      "cell_type": "code",
      "metadata": {
        "id": "OCWoJkwE9suh",
        "colab_type": "code",
        "colab": {}
      },
      "source": [
        "y_pred = model.predict(X_test)#Generate output predictions for the input data."
      ],
      "execution_count": 0,
      "outputs": []
    },
    {
      "cell_type": "code",
      "metadata": {
        "id": "Ym7iCFBm9uBs",
        "colab_type": "code",
        "outputId": "5c2f34cb-9221-43fd-e1ba-56c5d77e1920",
        "colab": {
          "base_uri": "https://localhost:8080/",
          "height": 493
        }
      },
      "source": [
        "print(y_pred[:9])\n",
        "print(y_test[:9])"
      ],
      "execution_count": 0,
      "outputs": [
        {
          "output_type": "stream",
          "text": [
            "[[5.66160183e-12 6.79379919e-14 3.51953980e-13 8.32135854e-08\n",
            "  6.12395639e-18 1.04138805e-14 5.20807547e-24 9.99999881e-01\n",
            "  1.93183013e-12 7.00161179e-11]\n",
            " [1.00304121e-07 4.46002772e-08 9.99999881e-01 5.68643075e-15\n",
            "  2.82694181e-12 3.19249974e-16 6.65706101e-10 3.34517326e-13\n",
            "  3.88430316e-10 2.41402747e-14]\n",
            " [9.98412394e-11 9.99999285e-01 1.01271151e-08 9.61041752e-14\n",
            "  1.53620725e-08 3.43207218e-09 2.07956860e-10 6.82805023e-07\n",
            "  1.00383968e-09 5.21906796e-10]\n",
            " [9.99999762e-01 4.77832673e-15 1.73404686e-07 5.25282031e-12\n",
            "  3.02803919e-12 9.34644184e-09 1.22860015e-07 3.93691718e-10\n",
            "  7.76690545e-10 4.14407442e-09]\n",
            " [1.19697835e-10 1.32025973e-10 5.49357192e-11 4.35171342e-14\n",
            "  9.99999642e-01 3.31173695e-12 2.19225831e-12 1.90477453e-10\n",
            "  2.82132425e-11 3.73334416e-07]\n",
            " [4.26878227e-10 9.99997854e-01 1.72253003e-08 4.18764585e-14\n",
            "  1.28085711e-08 2.89411051e-10 5.48575616e-13 2.16779972e-06\n",
            "  1.06599884e-09 1.29347608e-08]\n",
            " [7.30205163e-19 4.23866747e-10 3.52790002e-14 5.11221103e-15\n",
            "  9.99994397e-01 1.35559619e-11 2.86321097e-21 8.94107177e-10\n",
            "  5.47103400e-06 1.29844437e-07]\n",
            " [1.48911221e-14 4.15434620e-09 1.83151911e-08 3.27566489e-08\n",
            "  6.51227936e-07 1.58808598e-06 1.18436435e-15 1.42952483e-10\n",
            "  6.03678396e-09 9.99997735e-01]\n",
            " [1.73313150e-08 1.80154880e-09 1.50848149e-12 4.36307204e-08\n",
            "  3.80860321e-08 9.93857920e-01 1.32871923e-04 8.59265492e-10\n",
            "  8.40216177e-04 5.16880536e-03]]\n",
            "[7 2 1 0 4 1 4 9 5]\n"
          ],
          "name": "stdout"
        }
      ]
    },
    {
      "cell_type": "code",
      "metadata": {
        "id": "CT--y98_dr2T",
        "colab_type": "code",
        "colab": {}
      },
      "source": [
        "layer_dict = dict([(layer.name, layer) for layer in model.layers])"
      ],
      "execution_count": 0,
      "outputs": []
    },
    {
      "cell_type": "code",
      "metadata": {
        "id": "2GY4Upv4dsUR",
        "colab_type": "code",
        "outputId": "545522d8-3c94-41e3-9feb-75ed8c9325c5",
        "colab": {
          "base_uri": "https://localhost:8080/",
          "height": 316
        }
      },
      "source": [
        "import numpy as np\n",
        "from matplotlib import pyplot as plt\n",
        "from keras import backend as K\n",
        "%matplotlib inline\n",
        "# util function to convert a tensor into a valid image\n",
        "def deprocess_image(x):\n",
        "    # normalize tensor: center on 0., ensure std is 0.1\n",
        "    x -= x.mean()\n",
        "    x /= (x.std() + 1e-5)\n",
        "    x *= 0.1\n",
        "\n",
        "    # clip to [0, 1]\n",
        "    x += 0.5\n",
        "    x = np.clip(x, 0, 1)\n",
        "\n",
        "    # convert to RGB array\n",
        "    x *= 255\n",
        "    #x = x.transpose((1, 2, 0))\n",
        "    x = np.clip(x, 0, 255).astype('uint8')\n",
        "    return x\n",
        "\n",
        "def vis_img_in_filter(img = np.array(X_train[2]).reshape((1, 28, 28, 1)).astype(np.float64), \n",
        "                      layer_name = 'conv2d_14'):\n",
        "    layer_output = layer_dict[layer_name].output\n",
        "    img_ascs = list()\n",
        "    for filter_index in range(layer_output.shape[3]):\n",
        "        # build a loss function that maximizes the activation\n",
        "        # of the nth filter of the layer considered\n",
        "        loss = K.mean(layer_output[:, :, :, filter_index])\n",
        "\n",
        "        # compute the gradient of the input picture wrt this loss\n",
        "        grads = K.gradients(loss, model.input)[0]\n",
        "\n",
        "        # normalization trick: we normalize the gradient\n",
        "        grads /= (K.sqrt(K.mean(K.square(grads))) + 1e-5)\n",
        "\n",
        "        # this function returns the loss and grads given the input picture\n",
        "        iterate = K.function([model.input], [loss, grads])\n",
        "\n",
        "        # step size for gradient ascent\n",
        "        step = 5.\n",
        "\n",
        "        img_asc = np.array(img)\n",
        "        # run gradient ascent for 20 steps\n",
        "        for i in range(20):\n",
        "            loss_value, grads_value = iterate([img_asc])\n",
        "            img_asc += grads_value * step\n",
        "\n",
        "        img_asc = img_asc[0]\n",
        "        img_ascs.append(deprocess_image(img_asc).reshape((28, 28)))\n",
        "        \n",
        "    if layer_output.shape[3] >= 35:\n",
        "        plot_x, plot_y = 6, 6\n",
        "    elif layer_output.shape[3] >= 23:\n",
        "        plot_x, plot_y = 4, 6\n",
        "    elif layer_output.shape[3] >= 11:\n",
        "        plot_x, plot_y = 2, 6\n",
        "    else:\n",
        "        plot_x, plot_y = 1, 2\n",
        "    fig, ax = plt.subplots(plot_x, plot_y, figsize = (12, 12))\n",
        "    ax[0, 0].imshow(img.reshape((28, 28)), cmap = 'gray')\n",
        "    ax[0, 0].set_title('Input image')\n",
        "    fig.suptitle('Input image and %s filters' % (layer_name,))\n",
        "    fig.tight_layout(pad = 0.3, rect = [0, 0, 0.9, 0.9])\n",
        "    for (x, y) in [(i, j) for i in range(plot_x) for j in range(plot_y)]:\n",
        "        if x == 0 and y == 0:\n",
        "            continue\n",
        "        ax[x, y].imshow(img_ascs[x * plot_y + y - 1], cmap = 'gray')\n",
        "        ax[x, y].set_title('filter %d' % (x * plot_y + y - 1))\n",
        "\n",
        "vis_img_in_filter()"
      ],
      "execution_count": 0,
      "outputs": [
        {
          "output_type": "error",
          "ename": "KeyError",
          "evalue": "ignored",
          "traceback": [
            "\u001b[0;31m---------------------------------------------------------------------------\u001b[0m",
            "\u001b[0;31mKeyError\u001b[0m                                  Traceback (most recent call last)",
            "\u001b[0;32m<ipython-input-19-19229f66b51a>\u001b[0m in \u001b[0;36m<module>\u001b[0;34m()\u001b[0m\n\u001b[1;32m     69\u001b[0m         \u001b[0max\u001b[0m\u001b[0;34m[\u001b[0m\u001b[0mx\u001b[0m\u001b[0;34m,\u001b[0m \u001b[0my\u001b[0m\u001b[0;34m]\u001b[0m\u001b[0;34m.\u001b[0m\u001b[0mset_title\u001b[0m\u001b[0;34m(\u001b[0m\u001b[0;34m'filter %d'\u001b[0m \u001b[0;34m%\u001b[0m \u001b[0;34m(\u001b[0m\u001b[0mx\u001b[0m \u001b[0;34m*\u001b[0m \u001b[0mplot_y\u001b[0m \u001b[0;34m+\u001b[0m \u001b[0my\u001b[0m \u001b[0;34m-\u001b[0m \u001b[0;36m1\u001b[0m\u001b[0;34m)\u001b[0m\u001b[0;34m)\u001b[0m\u001b[0;34m\u001b[0m\u001b[0;34m\u001b[0m\u001b[0m\n\u001b[1;32m     70\u001b[0m \u001b[0;34m\u001b[0m\u001b[0m\n\u001b[0;32m---> 71\u001b[0;31m \u001b[0mvis_img_in_filter\u001b[0m\u001b[0;34m(\u001b[0m\u001b[0;34m)\u001b[0m\u001b[0;34m\u001b[0m\u001b[0;34m\u001b[0m\u001b[0m\n\u001b[0m",
            "\u001b[0;32m<ipython-input-19-19229f66b51a>\u001b[0m in \u001b[0;36mvis_img_in_filter\u001b[0;34m(img, layer_name)\u001b[0m\n\u001b[1;32m     22\u001b[0m def vis_img_in_filter(img = np.array(X_train[2]).reshape((1, 28, 28, 1)).astype(np.float64), \n\u001b[1;32m     23\u001b[0m                       layer_name = 'conv2d_14'):\n\u001b[0;32m---> 24\u001b[0;31m     \u001b[0mlayer_output\u001b[0m \u001b[0;34m=\u001b[0m \u001b[0mlayer_dict\u001b[0m\u001b[0;34m[\u001b[0m\u001b[0mlayer_name\u001b[0m\u001b[0;34m]\u001b[0m\u001b[0;34m.\u001b[0m\u001b[0moutput\u001b[0m\u001b[0;34m\u001b[0m\u001b[0;34m\u001b[0m\u001b[0m\n\u001b[0m\u001b[1;32m     25\u001b[0m     \u001b[0mimg_ascs\u001b[0m \u001b[0;34m=\u001b[0m \u001b[0mlist\u001b[0m\u001b[0;34m(\u001b[0m\u001b[0;34m)\u001b[0m\u001b[0;34m\u001b[0m\u001b[0;34m\u001b[0m\u001b[0m\n\u001b[1;32m     26\u001b[0m     \u001b[0;32mfor\u001b[0m \u001b[0mfilter_index\u001b[0m \u001b[0;32min\u001b[0m \u001b[0mrange\u001b[0m\u001b[0;34m(\u001b[0m\u001b[0mlayer_output\u001b[0m\u001b[0;34m.\u001b[0m\u001b[0mshape\u001b[0m\u001b[0;34m[\u001b[0m\u001b[0;36m3\u001b[0m\u001b[0;34m]\u001b[0m\u001b[0;34m)\u001b[0m\u001b[0;34m:\u001b[0m\u001b[0;34m\u001b[0m\u001b[0;34m\u001b[0m\u001b[0m\n",
            "\u001b[0;31mKeyError\u001b[0m: 'conv2d_14'"
          ]
        }
      ]
    },
    {
      "cell_type": "code",
      "metadata": {
        "id": "9tvptcn8dxvp",
        "colab_type": "code",
        "colab": {}
      },
      "source": [
        ""
      ],
      "execution_count": 0,
      "outputs": []
    }
  ]
}